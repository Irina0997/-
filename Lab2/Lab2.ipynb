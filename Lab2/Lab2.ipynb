{
 "cells": [
  {
   "cell_type": "markdown",
   "metadata": {},
   "source": [
    "# Лабораторная работа №2. Изучение библиотек обработки данных.\n",
    "\n",
    "**Цель лабораторной работы:** изучение библиотек обработки данных Pandas и PandaSQL.\n",
    "\n",
    "**Требования к отчету:**\n",
    "отчет по лабораторной работе должен содержать:\n",
    "- титульный лист;\n",
    "- описание задания;\n",
    "- текст программы;\n",
    "- экранные формы с примерами выполнения программы.\n",
    "\n",
    "# Задание:\n",
    "\n",
    "**Часть 1.**\n",
    "Выполните первое демонстрационное задание \"demo assignment\" под названием \"Exploratory data analysis with Pandas\" со страницы курса https://mlcourse.ai/assignments\n",
    "\n",
    "Условие задания - https://nbviewer.jupyter.org/github/Yorko/mlcourse_open/blob/master/jupyter_english/assignments_demo/assignment01_pandas_uci_adult.ipynb?flush_cache=true\n",
    "\n",
    "**Часть 2.**\n",
    "Выполните следующие запросы с использованием двух различных библиотек - Pandas и PandaSQL:\n",
    "\n",
    "- один произвольный запрос на соединение двух наборов данных;\n",
    "- один произвольный запрос на группировку набора данных с использованием функций агрегирования.\n",
    "\n",
    "Сравните время выполнения каждого запроса в Pandas и PandaSQL."
   ]
  },
  {
   "cell_type": "markdown",
   "metadata": {},
   "source": [
    "# Часть 1"
   ]
  },
  {
   "cell_type": "markdown",
   "metadata": {},
   "source": [
    "Unique values of all features (for more information, please see the links above):\n",
    "\n",
    "- age: continuous.\n",
    "- workclass: Private, Self-emp-not-inc, Self-emp-inc, Federal-gov, Local-gov, State-gov, Without-pay, Never-worked.\n",
    "- fnlwgt: continuous.\n",
    "- education: Bachelors, Some-college, 11th, HS-grad, Prof-school, Assoc-acdm, Assoc-voc, 9th, 7th-8th, 12th, Masters, 1st-4th, 10th, Doctorate, 5th-6th, Preschool.\n",
    "- education-num: continuous.\n",
    "- marital-status: Married-civ-spouse, Divorced, Never-married, Separated, Widowed, Married-spouse-absent, Married-AF-spouse.\n",
    "- occupation: Tech-support, Craft-repair, Other-service, Sales, Exec-managerial, Prof-specialty, Handlers-cleaners, Machine-op-inspct, Adm-clerical, Farming-fishing, Transport-moving, Priv-house-serv, Protective-serv, Armed-Forces.\n",
    "- relationship: Wife, Own-child, Husband, Not-in-family, Other-relative, Unmarried.\n",
    "- race: White, Asian-Pac-Islander, Amer-Indian-Eskimo, Other, Black.\n",
    "- sex: Female, Male.\n",
    "- capital-gain: continuous.\n",
    "- capital-loss: continuous.\n",
    "- hours-per-week: continuous.\n",
    "- native-country: United-States, Cambodia, England, Puerto-Rico, Canada, Germany, Outlying-US(Guam-USVI-etc), India, Japan, Greece, South, China, Cuba, Iran, Honduras, Philippines, Italy, Poland, Jamaica, Vietnam, Mexico, Portugal, Ireland, France, Dominican-Republic, Laos, Ecuador, Taiwan, Haiti, Columbia, Hungary, Guatemala, Nicaragua, Scotland, Thailand, Yugoslavia, El-Salvador, Trinadad&Tobago, Peru, Hong, Holand-Netherlands.\n",
    "- salary: >50K,<=50K"
   ]
  },
  {
   "cell_type": "code",
   "execution_count": 5,
   "metadata": {},
   "outputs": [],
   "source": [
    "import numpy as np\n",
    "import pandas as pd\n",
    "pd.set_option('display.max.columns', 100)\n",
    "import seaborn as sns\n",
    "%matplotlib inline\n",
    "import matplotlib.pyplot as plt\n",
    "sns.set(style=\"ticks\")\n",
    "import warnings\n",
    "warnings.filterwarnings('ignore')"
   ]
  },
  {
   "cell_type": "code",
   "execution_count": 6,
   "metadata": {},
   "outputs": [
    {
     "data": {
      "text/html": [
       "<div>\n",
       "<style scoped>\n",
       "    .dataframe tbody tr th:only-of-type {\n",
       "        vertical-align: middle;\n",
       "    }\n",
       "\n",
       "    .dataframe tbody tr th {\n",
       "        vertical-align: top;\n",
       "    }\n",
       "\n",
       "    .dataframe thead th {\n",
       "        text-align: right;\n",
       "    }\n",
       "</style>\n",
       "<table border=\"1\" class=\"dataframe\">\n",
       "  <thead>\n",
       "    <tr style=\"text-align: right;\">\n",
       "      <th></th>\n",
       "      <th>age</th>\n",
       "      <th>workclass</th>\n",
       "      <th>fnlwgt</th>\n",
       "      <th>education</th>\n",
       "      <th>education-num</th>\n",
       "      <th>marital-status</th>\n",
       "      <th>occupation</th>\n",
       "      <th>relationship</th>\n",
       "      <th>race</th>\n",
       "      <th>sex</th>\n",
       "      <th>capital-gain</th>\n",
       "      <th>capital-loss</th>\n",
       "      <th>hours-per-week</th>\n",
       "      <th>native-country</th>\n",
       "      <th>salary</th>\n",
       "    </tr>\n",
       "  </thead>\n",
       "  <tbody>\n",
       "    <tr>\n",
       "      <th>0</th>\n",
       "      <td>39</td>\n",
       "      <td>State-gov</td>\n",
       "      <td>77516</td>\n",
       "      <td>Bachelors</td>\n",
       "      <td>13</td>\n",
       "      <td>Never-married</td>\n",
       "      <td>Adm-clerical</td>\n",
       "      <td>Not-in-family</td>\n",
       "      <td>White</td>\n",
       "      <td>Male</td>\n",
       "      <td>2174</td>\n",
       "      <td>0</td>\n",
       "      <td>40</td>\n",
       "      <td>United-States</td>\n",
       "      <td>&lt;=50K</td>\n",
       "    </tr>\n",
       "    <tr>\n",
       "      <th>1</th>\n",
       "      <td>50</td>\n",
       "      <td>Self-emp-not-inc</td>\n",
       "      <td>83311</td>\n",
       "      <td>Bachelors</td>\n",
       "      <td>13</td>\n",
       "      <td>Married-civ-spouse</td>\n",
       "      <td>Exec-managerial</td>\n",
       "      <td>Husband</td>\n",
       "      <td>White</td>\n",
       "      <td>Male</td>\n",
       "      <td>0</td>\n",
       "      <td>0</td>\n",
       "      <td>13</td>\n",
       "      <td>United-States</td>\n",
       "      <td>&lt;=50K</td>\n",
       "    </tr>\n",
       "    <tr>\n",
       "      <th>2</th>\n",
       "      <td>38</td>\n",
       "      <td>Private</td>\n",
       "      <td>215646</td>\n",
       "      <td>HS-grad</td>\n",
       "      <td>9</td>\n",
       "      <td>Divorced</td>\n",
       "      <td>Handlers-cleaners</td>\n",
       "      <td>Not-in-family</td>\n",
       "      <td>White</td>\n",
       "      <td>Male</td>\n",
       "      <td>0</td>\n",
       "      <td>0</td>\n",
       "      <td>40</td>\n",
       "      <td>United-States</td>\n",
       "      <td>&lt;=50K</td>\n",
       "    </tr>\n",
       "    <tr>\n",
       "      <th>3</th>\n",
       "      <td>53</td>\n",
       "      <td>Private</td>\n",
       "      <td>234721</td>\n",
       "      <td>11th</td>\n",
       "      <td>7</td>\n",
       "      <td>Married-civ-spouse</td>\n",
       "      <td>Handlers-cleaners</td>\n",
       "      <td>Husband</td>\n",
       "      <td>Black</td>\n",
       "      <td>Male</td>\n",
       "      <td>0</td>\n",
       "      <td>0</td>\n",
       "      <td>40</td>\n",
       "      <td>United-States</td>\n",
       "      <td>&lt;=50K</td>\n",
       "    </tr>\n",
       "    <tr>\n",
       "      <th>4</th>\n",
       "      <td>28</td>\n",
       "      <td>Private</td>\n",
       "      <td>338409</td>\n",
       "      <td>Bachelors</td>\n",
       "      <td>13</td>\n",
       "      <td>Married-civ-spouse</td>\n",
       "      <td>Prof-specialty</td>\n",
       "      <td>Wife</td>\n",
       "      <td>Black</td>\n",
       "      <td>Female</td>\n",
       "      <td>0</td>\n",
       "      <td>0</td>\n",
       "      <td>40</td>\n",
       "      <td>Cuba</td>\n",
       "      <td>&lt;=50K</td>\n",
       "    </tr>\n",
       "  </tbody>\n",
       "</table>\n",
       "</div>"
      ],
      "text/plain": [
       "   age          workclass  fnlwgt   education  education-num  \\\n",
       "0   39          State-gov   77516   Bachelors             13   \n",
       "1   50   Self-emp-not-inc   83311   Bachelors             13   \n",
       "2   38            Private  215646     HS-grad              9   \n",
       "3   53            Private  234721        11th              7   \n",
       "4   28            Private  338409   Bachelors             13   \n",
       "\n",
       "        marital-status          occupation    relationship    race      sex  \\\n",
       "0        Never-married        Adm-clerical   Not-in-family   White     Male   \n",
       "1   Married-civ-spouse     Exec-managerial         Husband   White     Male   \n",
       "2             Divorced   Handlers-cleaners   Not-in-family   White     Male   \n",
       "3   Married-civ-spouse   Handlers-cleaners         Husband   Black     Male   \n",
       "4   Married-civ-spouse      Prof-specialty            Wife   Black   Female   \n",
       "\n",
       "   capital-gain  capital-loss  hours-per-week  native-country  salary  \n",
       "0          2174             0              40   United-States   <=50K  \n",
       "1             0             0              13   United-States   <=50K  \n",
       "2             0             0              40   United-States   <=50K  \n",
       "3             0             0              40   United-States   <=50K  \n",
       "4             0             0              40            Cuba   <=50K  "
      ]
     },
     "execution_count": 6,
     "metadata": {},
     "output_type": "execute_result"
    }
   ],
   "source": [
    "data = pd.read_csv('D:/Загрузки/adult.data', header=None, names=['age','workclass','fnlwgt','education',\n",
    "                                                   'education-num','marital-status','occupation',\n",
    "                                                   'relationship','race','sex','capital-gain','capital-loss',\n",
    "                                                   'hours-per-week','native-country','salary'])\n",
    "data.head()"
   ]
  },
  {
   "cell_type": "markdown",
   "metadata": {},
   "source": [
    "**1. How many men and women (sex feature) are represented in this dataset?**"
   ]
  },
  {
   "cell_type": "code",
   "execution_count": 29,
   "metadata": {},
   "outputs": [
    {
     "data": {
      "text/plain": [
       " Male      21790\n",
       " Female    10771\n",
       "Name: sex, dtype: int64"
      ]
     },
     "execution_count": 29,
     "metadata": {},
     "output_type": "execute_result"
    }
   ],
   "source": [
    "data['sex'].value_counts()"
   ]
  },
  {
   "cell_type": "markdown",
   "metadata": {},
   "source": [
    "**2. What is the average age (age feature) of women?**"
   ]
  },
  {
   "cell_type": "code",
   "execution_count": 41,
   "metadata": {},
   "outputs": [
    {
     "data": {
      "text/plain": [
       "36.85823043357163"
      ]
     },
     "execution_count": 41,
     "metadata": {},
     "output_type": "execute_result"
    }
   ],
   "source": [
    "data.loc[data['sex'] == ' Female', 'age'].mean()"
   ]
  },
  {
   "cell_type": "markdown",
   "metadata": {},
   "source": [
    "**3. What is the percentage of German citizens (native-country feature)?**"
   ]
  },
  {
   "cell_type": "code",
   "execution_count": 54,
   "metadata": {},
   "outputs": [
    {
     "data": {
      "text/plain": [
       " Germany    0.420749\n",
       "Name: native-country, dtype: float64"
      ]
     },
     "execution_count": 54,
     "metadata": {},
     "output_type": "execute_result"
    }
   ],
   "source": [
    "data.loc[data['native-country'] == ' Germany', 'native-country'].value_counts()/data['native-country'].count()*100"
   ]
  },
  {
   "cell_type": "markdown",
   "metadata": {},
   "source": [
    "**4-5. What are the mean and standard deviation of age for those who earn more than 50K per year (salary feature) and those who earn less than 50K per year?**"
   ]
  },
  {
   "cell_type": "code",
   "execution_count": 68,
   "metadata": {},
   "outputs": [
    {
     "name": "stdout",
     "output_type": "stream",
     "text": [
      "The average age is: 44.0 +- 10.5 years\n"
     ]
    }
   ],
   "source": [
    "# mean and standard deviation of age for those who earn more than 50K\n",
    "print(\"The average age is: {0} +- {1} years\".format(\n",
    "    round(data.loc[data['salary'] == ' >50K', 'age'].mean()),\n",
    "    round(data.loc[data['salary'] == ' >50K', 'age'].std(), 1)))"
   ]
  },
  {
   "cell_type": "code",
   "execution_count": 71,
   "metadata": {},
   "outputs": [
    {
     "name": "stdout",
     "output_type": "stream",
     "text": [
      "The average age is: 37.0 +- 14.0 years\n"
     ]
    }
   ],
   "source": [
    "# mean and standard deviation of age for those who earn less than 50K\n",
    "print(\"The average age is: {0} +- {1} years\".format(\n",
    "    round(data.loc[data['salary'] == ' <=50K', 'age'].mean()),\n",
    "    round(data.loc[data['salary'] == ' <=50K', 'age'].std())))"
   ]
  },
  {
   "cell_type": "markdown",
   "metadata": {},
   "source": [
    "**6. Is it true that people who earn more than 50K have at least high school education? (education – Bachelors, Prof-school, Assoc-acdm, Assoc-voc, Masters or Doctorate feature)**"
   ]
  },
  {
   "cell_type": "code",
   "execution_count": 81,
   "metadata": {},
   "outputs": [
    {
     "data": {
      "text/plain": [
       "array([' HS-grad', ' Masters', ' Bachelors', ' Some-college',\n",
       "       ' Assoc-voc', ' Doctorate', ' Prof-school', ' Assoc-acdm',\n",
       "       ' 7th-8th', ' 12th', ' 10th', ' 11th', ' 9th', ' 5th-6th',\n",
       "       ' 1st-4th'], dtype=object)"
      ]
     },
     "execution_count": 81,
     "metadata": {},
     "output_type": "execute_result"
    }
   ],
   "source": [
    "data.loc[data['salary'] == ' >50K', 'education'].unique()"
   ]
  },
  {
   "cell_type": "code",
   "execution_count": 83,
   "metadata": {},
   "outputs": [
    {
     "name": "stdout",
     "output_type": "stream",
     "text": [
      "Not all the people who earn more than 50K have at least high school education\n"
     ]
    }
   ],
   "source": [
    "print(\"Not all the people who earn more than 50K have at least high school education\")"
   ]
  },
  {
   "cell_type": "markdown",
   "metadata": {},
   "source": [
    "**7. Display age statistics for each race (race feature) and each gender (sex feature). Use groupby() and describe(). Find the maximum age of men of Amer-Indian-Eskimo race.**"
   ]
  },
  {
   "cell_type": "code",
   "execution_count": 90,
   "metadata": {},
   "outputs": [
    {
     "data": {
      "text/html": [
       "<div>\n",
       "<style scoped>\n",
       "    .dataframe tbody tr th:only-of-type {\n",
       "        vertical-align: middle;\n",
       "    }\n",
       "\n",
       "    .dataframe tbody tr th {\n",
       "        vertical-align: top;\n",
       "    }\n",
       "\n",
       "    .dataframe thead th {\n",
       "        text-align: right;\n",
       "    }\n",
       "</style>\n",
       "<table border=\"1\" class=\"dataframe\">\n",
       "  <thead>\n",
       "    <tr style=\"text-align: right;\">\n",
       "      <th></th>\n",
       "      <th></th>\n",
       "      <th>count</th>\n",
       "      <th>mean</th>\n",
       "      <th>std</th>\n",
       "      <th>min</th>\n",
       "      <th>25%</th>\n",
       "      <th>50%</th>\n",
       "      <th>75%</th>\n",
       "      <th>max</th>\n",
       "    </tr>\n",
       "    <tr>\n",
       "      <th>race</th>\n",
       "      <th>sex</th>\n",
       "      <th></th>\n",
       "      <th></th>\n",
       "      <th></th>\n",
       "      <th></th>\n",
       "      <th></th>\n",
       "      <th></th>\n",
       "      <th></th>\n",
       "      <th></th>\n",
       "    </tr>\n",
       "  </thead>\n",
       "  <tbody>\n",
       "    <tr>\n",
       "      <th rowspan=\"2\" valign=\"top\">Amer-Indian-Eskimo</th>\n",
       "      <th>Female</th>\n",
       "      <td>119.0</td>\n",
       "      <td>37.117647</td>\n",
       "      <td>13.114991</td>\n",
       "      <td>17.0</td>\n",
       "      <td>27.0</td>\n",
       "      <td>36.0</td>\n",
       "      <td>46.00</td>\n",
       "      <td>80.0</td>\n",
       "    </tr>\n",
       "    <tr>\n",
       "      <th>Male</th>\n",
       "      <td>192.0</td>\n",
       "      <td>37.208333</td>\n",
       "      <td>12.049563</td>\n",
       "      <td>17.0</td>\n",
       "      <td>28.0</td>\n",
       "      <td>35.0</td>\n",
       "      <td>45.00</td>\n",
       "      <td>82.0</td>\n",
       "    </tr>\n",
       "    <tr>\n",
       "      <th rowspan=\"2\" valign=\"top\">Asian-Pac-Islander</th>\n",
       "      <th>Female</th>\n",
       "      <td>346.0</td>\n",
       "      <td>35.089595</td>\n",
       "      <td>12.300845</td>\n",
       "      <td>17.0</td>\n",
       "      <td>25.0</td>\n",
       "      <td>33.0</td>\n",
       "      <td>43.75</td>\n",
       "      <td>75.0</td>\n",
       "    </tr>\n",
       "    <tr>\n",
       "      <th>Male</th>\n",
       "      <td>693.0</td>\n",
       "      <td>39.073593</td>\n",
       "      <td>12.883944</td>\n",
       "      <td>18.0</td>\n",
       "      <td>29.0</td>\n",
       "      <td>37.0</td>\n",
       "      <td>46.00</td>\n",
       "      <td>90.0</td>\n",
       "    </tr>\n",
       "    <tr>\n",
       "      <th rowspan=\"2\" valign=\"top\">Black</th>\n",
       "      <th>Female</th>\n",
       "      <td>1555.0</td>\n",
       "      <td>37.854019</td>\n",
       "      <td>12.637197</td>\n",
       "      <td>17.0</td>\n",
       "      <td>28.0</td>\n",
       "      <td>37.0</td>\n",
       "      <td>46.00</td>\n",
       "      <td>90.0</td>\n",
       "    </tr>\n",
       "    <tr>\n",
       "      <th>Male</th>\n",
       "      <td>1569.0</td>\n",
       "      <td>37.682600</td>\n",
       "      <td>12.882612</td>\n",
       "      <td>17.0</td>\n",
       "      <td>27.0</td>\n",
       "      <td>36.0</td>\n",
       "      <td>46.00</td>\n",
       "      <td>90.0</td>\n",
       "    </tr>\n",
       "    <tr>\n",
       "      <th rowspan=\"2\" valign=\"top\">Other</th>\n",
       "      <th>Female</th>\n",
       "      <td>109.0</td>\n",
       "      <td>31.678899</td>\n",
       "      <td>11.631599</td>\n",
       "      <td>17.0</td>\n",
       "      <td>23.0</td>\n",
       "      <td>29.0</td>\n",
       "      <td>39.00</td>\n",
       "      <td>74.0</td>\n",
       "    </tr>\n",
       "    <tr>\n",
       "      <th>Male</th>\n",
       "      <td>162.0</td>\n",
       "      <td>34.654321</td>\n",
       "      <td>11.355531</td>\n",
       "      <td>17.0</td>\n",
       "      <td>26.0</td>\n",
       "      <td>32.0</td>\n",
       "      <td>42.00</td>\n",
       "      <td>77.0</td>\n",
       "    </tr>\n",
       "    <tr>\n",
       "      <th rowspan=\"2\" valign=\"top\">White</th>\n",
       "      <th>Female</th>\n",
       "      <td>8642.0</td>\n",
       "      <td>36.811618</td>\n",
       "      <td>14.329093</td>\n",
       "      <td>17.0</td>\n",
       "      <td>25.0</td>\n",
       "      <td>35.0</td>\n",
       "      <td>46.00</td>\n",
       "      <td>90.0</td>\n",
       "    </tr>\n",
       "    <tr>\n",
       "      <th>Male</th>\n",
       "      <td>19174.0</td>\n",
       "      <td>39.652498</td>\n",
       "      <td>13.436029</td>\n",
       "      <td>17.0</td>\n",
       "      <td>29.0</td>\n",
       "      <td>38.0</td>\n",
       "      <td>49.00</td>\n",
       "      <td>90.0</td>\n",
       "    </tr>\n",
       "  </tbody>\n",
       "</table>\n",
       "</div>"
      ],
      "text/plain": [
       "                               count       mean        std   min   25%   50%  \\\n",
       "race                sex                                                        \n",
       " Amer-Indian-Eskimo  Female    119.0  37.117647  13.114991  17.0  27.0  36.0   \n",
       "                     Male      192.0  37.208333  12.049563  17.0  28.0  35.0   \n",
       " Asian-Pac-Islander  Female    346.0  35.089595  12.300845  17.0  25.0  33.0   \n",
       "                     Male      693.0  39.073593  12.883944  18.0  29.0  37.0   \n",
       " Black               Female   1555.0  37.854019  12.637197  17.0  28.0  37.0   \n",
       "                     Male     1569.0  37.682600  12.882612  17.0  27.0  36.0   \n",
       " Other               Female    109.0  31.678899  11.631599  17.0  23.0  29.0   \n",
       "                     Male      162.0  34.654321  11.355531  17.0  26.0  32.0   \n",
       " White               Female   8642.0  36.811618  14.329093  17.0  25.0  35.0   \n",
       "                     Male    19174.0  39.652498  13.436029  17.0  29.0  38.0   \n",
       "\n",
       "                               75%   max  \n",
       "race                sex                   \n",
       " Amer-Indian-Eskimo  Female  46.00  80.0  \n",
       "                     Male    45.00  82.0  \n",
       " Asian-Pac-Islander  Female  43.75  75.0  \n",
       "                     Male    46.00  90.0  \n",
       " Black               Female  46.00  90.0  \n",
       "                     Male    46.00  90.0  \n",
       " Other               Female  39.00  74.0  \n",
       "                     Male    42.00  77.0  \n",
       " White               Female  46.00  90.0  \n",
       "                     Male    49.00  90.0  "
      ]
     },
     "execution_count": 90,
     "metadata": {},
     "output_type": "execute_result"
    }
   ],
   "source": [
    "data1 = data.groupby(['race', 'sex'])\n",
    "data1['age'].describe()"
   ]
  },
  {
   "cell_type": "code",
   "execution_count": 92,
   "metadata": {},
   "outputs": [
    {
     "data": {
      "text/plain": [
       "82"
      ]
     },
     "execution_count": 92,
     "metadata": {},
     "output_type": "execute_result"
    }
   ],
   "source": [
    "data.loc[data['race'] == ' Amer-Indian-Eskimo', 'age'].max()"
   ]
  },
  {
   "cell_type": "markdown",
   "metadata": {},
   "source": [
    "**8. Among whom is the proportion of those who earn a lot (>50K) greater: married or single men (marital-status feature)? Consider as married those who have a marital-status starting with Married (Married-civ-spouse, Married-spouse-absent or Married-AF-spouse), the rest are considered bachelors.**"
   ]
  },
  {
   "cell_type": "code",
   "execution_count": 120,
   "metadata": {},
   "outputs": [],
   "source": [
    "data1 = data[data['sex'] == ' Male']"
   ]
  },
  {
   "cell_type": "code",
   "execution_count": 121,
   "metadata": {},
   "outputs": [
    {
     "data": {
      "text/html": [
       "<div>\n",
       "<style scoped>\n",
       "    .dataframe tbody tr th:only-of-type {\n",
       "        vertical-align: middle;\n",
       "    }\n",
       "\n",
       "    .dataframe tbody tr th {\n",
       "        vertical-align: top;\n",
       "    }\n",
       "\n",
       "    .dataframe thead th {\n",
       "        text-align: right;\n",
       "    }\n",
       "</style>\n",
       "<table border=\"1\" class=\"dataframe\">\n",
       "  <thead>\n",
       "    <tr style=\"text-align: right;\">\n",
       "      <th></th>\n",
       "      <th>marital-status</th>\n",
       "      <th>salary</th>\n",
       "    </tr>\n",
       "  </thead>\n",
       "  <tbody>\n",
       "    <tr>\n",
       "      <th>0</th>\n",
       "      <td>Divorced</td>\n",
       "      <td>284</td>\n",
       "    </tr>\n",
       "    <tr>\n",
       "      <th>1</th>\n",
       "      <td>Married-AF-spouse</td>\n",
       "      <td>4</td>\n",
       "    </tr>\n",
       "    <tr>\n",
       "      <th>2</th>\n",
       "      <td>Married-civ-spouse</td>\n",
       "      <td>5938</td>\n",
       "    </tr>\n",
       "    <tr>\n",
       "      <th>3</th>\n",
       "      <td>Married-spouse-absent</td>\n",
       "      <td>23</td>\n",
       "    </tr>\n",
       "    <tr>\n",
       "      <th>4</th>\n",
       "      <td>Never-married</td>\n",
       "      <td>325</td>\n",
       "    </tr>\n",
       "    <tr>\n",
       "      <th>5</th>\n",
       "      <td>Separated</td>\n",
       "      <td>49</td>\n",
       "    </tr>\n",
       "    <tr>\n",
       "      <th>6</th>\n",
       "      <td>Widowed</td>\n",
       "      <td>39</td>\n",
       "    </tr>\n",
       "  </tbody>\n",
       "</table>\n",
       "</div>"
      ],
      "text/plain": [
       "           marital-status  salary\n",
       "0                Divorced     284\n",
       "1       Married-AF-spouse       4\n",
       "2      Married-civ-spouse    5938\n",
       "3   Married-spouse-absent      23\n",
       "4           Never-married     325\n",
       "5               Separated      49\n",
       "6                 Widowed      39"
      ]
     },
     "execution_count": 121,
     "metadata": {},
     "output_type": "execute_result"
    }
   ],
   "source": [
    "data2 = data1[data1['salary'] == ' >50K'].groupby('marital-status').count().reset_index()[['marital-status', 'salary']]\n",
    "data2"
   ]
  },
  {
   "cell_type": "code",
   "execution_count": 123,
   "metadata": {},
   "outputs": [
    {
     "data": {
      "text/plain": [
       "18.319461932987316"
      ]
     },
     "execution_count": 123,
     "metadata": {},
     "output_type": "execute_result"
    }
   ],
   "source": [
    "married_prop = data2[data2['marital-status'].str.startswith(' Married')].sum()[1]\n",
    "married_prop/data['marital-status'].count()*100"
   ]
  },
  {
   "cell_type": "code",
   "execution_count": 124,
   "metadata": {},
   "outputs": [
    {
     "data": {
      "text/plain": [
       "2.140597647492399"
      ]
     },
     "execution_count": 124,
     "metadata": {},
     "output_type": "execute_result"
    }
   ],
   "source": [
    "single_prop = data2[~data2['marital-status'].str.startswith(' Married')].sum()[1]\n",
    "single_prop/data['marital-status'].count()*100"
   ]
  },
  {
   "cell_type": "code",
   "execution_count": 125,
   "metadata": {},
   "outputs": [
    {
     "name": "stdout",
     "output_type": "stream",
     "text": [
      "The proportion of those who earn a lot (>50K) is greater among married men\n"
     ]
    }
   ],
   "source": [
    "if married_prop > single_prop: \n",
    "    print('The proportion of those who earn a lot (>50K) is greater among married men')\n",
    "else:\n",
    "    print('The proportion of those who earn a lot (>50K) is greater among single men')"
   ]
  },
  {
   "cell_type": "markdown",
   "metadata": {},
   "source": [
    "**9. What is the maximum number of hours a person works per week (hours-per-week feature)? How many people work such a number of hours, and what is the percentage of those who earn a lot (>50K) among them?**"
   ]
  },
  {
   "cell_type": "code",
   "execution_count": 129,
   "metadata": {},
   "outputs": [
    {
     "name": "stdout",
     "output_type": "stream",
     "text": [
      "The maximum number of hours a person works per week is 99\n"
     ]
    }
   ],
   "source": [
    "max_hours = data['hours-per-week'].max()\n",
    "print(\"The maximum number of hours a person works per week is\", max_hours)"
   ]
  },
  {
   "cell_type": "code",
   "execution_count": 135,
   "metadata": {},
   "outputs": [
    {
     "name": "stdout",
     "output_type": "stream",
     "text": [
      "85 people work such a number of hours\n"
     ]
    }
   ],
   "source": [
    "data1 = data.loc[data['hours-per-week'] == max_hours, 'salary'].count()\n",
    "print(data1, \"people work such a number of hours\")"
   ]
  },
  {
   "cell_type": "code",
   "execution_count": 152,
   "metadata": {},
   "outputs": [
    {
     "name": "stdout",
     "output_type": "stream",
     "text": [
      "The percentage is 29.0\n"
     ]
    }
   ],
   "source": [
    "percent = float(data[(data['hours-per-week'] == max_hours) & (data['salary'] == ' >50K')].shape[0])/data1*100\n",
    "print(\"The percentage is\", round(percent))"
   ]
  },
  {
   "cell_type": "markdown",
   "metadata": {},
   "source": [
    "**10. Count the average time of work (hours-per-week) for those who earn a little and a lot (salary) for each country (native-country). What will these be for Japan?**"
   ]
  },
  {
   "cell_type": "code",
   "execution_count": 16,
   "metadata": {},
   "outputs": [
    {
     "ename": "TypeError",
     "evalue": "crosstab() missing 1 required positional argument: 'columns'",
     "output_type": "error",
     "traceback": [
      "\u001b[1;31m---------------------------------------------------------------------------\u001b[0m",
      "\u001b[1;31mTypeError\u001b[0m                                 Traceback (most recent call last)",
      "\u001b[1;32m<ipython-input-16-0b282dafc892>\u001b[0m in \u001b[0;36m<module>\u001b[1;34m\u001b[0m\n\u001b[0;32m      1\u001b[0m \u001b[0mdata3\u001b[0m \u001b[1;33m=\u001b[0m \u001b[0mdata\u001b[0m\u001b[1;33m.\u001b[0m\u001b[0mgroupby\u001b[0m\u001b[1;33m(\u001b[0m\u001b[1;33m[\u001b[0m\u001b[1;34m'native-country'\u001b[0m\u001b[1;33m,\u001b[0m \u001b[1;34m'salary'\u001b[0m\u001b[1;33m]\u001b[0m\u001b[1;33m)\u001b[0m\u001b[1;33m\u001b[0m\u001b[0m\n\u001b[1;32m----> 2\u001b[1;33m \u001b[0mpd\u001b[0m\u001b[1;33m.\u001b[0m\u001b[0mcrosstab\u001b[0m\u001b[1;33m(\u001b[0m\u001b[0mdata3\u001b[0m\u001b[1;33m[\u001b[0m\u001b[1;34m'hours-per-week'\u001b[0m\u001b[1;33m]\u001b[0m\u001b[1;33m.\u001b[0m\u001b[0mdescribe\u001b[0m\u001b[1;33m(\u001b[0m\u001b[1;33m)\u001b[0m\u001b[1;33m.\u001b[0m\u001b[0mreset_index\u001b[0m\u001b[1;33m(\u001b[0m\u001b[1;33m)\u001b[0m\u001b[1;33m[\u001b[0m\u001b[1;33m[\u001b[0m\u001b[1;34m'native-country'\u001b[0m\u001b[1;33m,\u001b[0m\u001b[1;34m'salary'\u001b[0m\u001b[1;33m,\u001b[0m\u001b[1;34m'mean'\u001b[0m\u001b[1;33m]\u001b[0m\u001b[1;33m]\u001b[0m\u001b[1;33m)\u001b[0m\u001b[1;33m.\u001b[0m\u001b[0mT\u001b[0m\u001b[1;33m\u001b[0m\u001b[0m\n\u001b[0m",
      "\u001b[1;31mTypeError\u001b[0m: crosstab() missing 1 required positional argument: 'columns'"
     ]
    }
   ],
   "source": [
    "data3 = data.groupby(['native-country', 'salary'])\n",
    "pd.crosstab(data3['hours-per-week'].describe().reset_index()[['native-country','salary','mean']]).T"
   ]
  },
  {
   "cell_type": "code",
   "execution_count": 18,
   "metadata": {},
   "outputs": [
    {
     "data": {
      "text/html": [
       "<div>\n",
       "<style scoped>\n",
       "    .dataframe tbody tr th:only-of-type {\n",
       "        vertical-align: middle;\n",
       "    }\n",
       "\n",
       "    .dataframe tbody tr th {\n",
       "        vertical-align: top;\n",
       "    }\n",
       "\n",
       "    .dataframe thead th {\n",
       "        text-align: right;\n",
       "    }\n",
       "</style>\n",
       "<table border=\"1\" class=\"dataframe\">\n",
       "  <thead>\n",
       "    <tr style=\"text-align: right;\">\n",
       "      <th>native-country</th>\n",
       "      <th>?</th>\n",
       "      <th>Cambodia</th>\n",
       "      <th>Canada</th>\n",
       "      <th>China</th>\n",
       "      <th>Columbia</th>\n",
       "      <th>Cuba</th>\n",
       "      <th>Dominican-Republic</th>\n",
       "      <th>Ecuador</th>\n",
       "      <th>El-Salvador</th>\n",
       "      <th>England</th>\n",
       "      <th>France</th>\n",
       "      <th>Germany</th>\n",
       "      <th>Greece</th>\n",
       "      <th>Guatemala</th>\n",
       "      <th>Haiti</th>\n",
       "      <th>Holand-Netherlands</th>\n",
       "      <th>Honduras</th>\n",
       "      <th>Hong</th>\n",
       "      <th>Hungary</th>\n",
       "      <th>India</th>\n",
       "      <th>Iran</th>\n",
       "      <th>Ireland</th>\n",
       "      <th>Italy</th>\n",
       "      <th>Jamaica</th>\n",
       "      <th>Japan</th>\n",
       "      <th>Laos</th>\n",
       "      <th>Mexico</th>\n",
       "      <th>Nicaragua</th>\n",
       "      <th>Outlying-US(Guam-USVI-etc)</th>\n",
       "      <th>Peru</th>\n",
       "      <th>Philippines</th>\n",
       "      <th>Poland</th>\n",
       "      <th>Portugal</th>\n",
       "      <th>Puerto-Rico</th>\n",
       "      <th>Scotland</th>\n",
       "      <th>South</th>\n",
       "      <th>Taiwan</th>\n",
       "      <th>Thailand</th>\n",
       "      <th>Trinadad&amp;Tobago</th>\n",
       "      <th>United-States</th>\n",
       "      <th>Vietnam</th>\n",
       "      <th>Yugoslavia</th>\n",
       "    </tr>\n",
       "    <tr>\n",
       "      <th>salary</th>\n",
       "      <th></th>\n",
       "      <th></th>\n",
       "      <th></th>\n",
       "      <th></th>\n",
       "      <th></th>\n",
       "      <th></th>\n",
       "      <th></th>\n",
       "      <th></th>\n",
       "      <th></th>\n",
       "      <th></th>\n",
       "      <th></th>\n",
       "      <th></th>\n",
       "      <th></th>\n",
       "      <th></th>\n",
       "      <th></th>\n",
       "      <th></th>\n",
       "      <th></th>\n",
       "      <th></th>\n",
       "      <th></th>\n",
       "      <th></th>\n",
       "      <th></th>\n",
       "      <th></th>\n",
       "      <th></th>\n",
       "      <th></th>\n",
       "      <th></th>\n",
       "      <th></th>\n",
       "      <th></th>\n",
       "      <th></th>\n",
       "      <th></th>\n",
       "      <th></th>\n",
       "      <th></th>\n",
       "      <th></th>\n",
       "      <th></th>\n",
       "      <th></th>\n",
       "      <th></th>\n",
       "      <th></th>\n",
       "      <th></th>\n",
       "      <th></th>\n",
       "      <th></th>\n",
       "      <th></th>\n",
       "      <th></th>\n",
       "      <th></th>\n",
       "    </tr>\n",
       "  </thead>\n",
       "  <tbody>\n",
       "    <tr>\n",
       "      <th>&lt;=50K</th>\n",
       "      <td>40.164760</td>\n",
       "      <td>41.416667</td>\n",
       "      <td>37.914634</td>\n",
       "      <td>37.381818</td>\n",
       "      <td>38.684211</td>\n",
       "      <td>37.985714</td>\n",
       "      <td>42.338235</td>\n",
       "      <td>38.041667</td>\n",
       "      <td>36.030928</td>\n",
       "      <td>40.483333</td>\n",
       "      <td>41.058824</td>\n",
       "      <td>39.139785</td>\n",
       "      <td>41.809524</td>\n",
       "      <td>39.360656</td>\n",
       "      <td>36.325</td>\n",
       "      <td>40.0</td>\n",
       "      <td>34.333333</td>\n",
       "      <td>39.142857</td>\n",
       "      <td>31.3</td>\n",
       "      <td>38.233333</td>\n",
       "      <td>41.44</td>\n",
       "      <td>40.947368</td>\n",
       "      <td>39.625</td>\n",
       "      <td>38.239437</td>\n",
       "      <td>41.000000</td>\n",
       "      <td>40.375</td>\n",
       "      <td>40.003279</td>\n",
       "      <td>36.09375</td>\n",
       "      <td>41.857143</td>\n",
       "      <td>35.068966</td>\n",
       "      <td>38.065693</td>\n",
       "      <td>38.166667</td>\n",
       "      <td>41.939394</td>\n",
       "      <td>38.470588</td>\n",
       "      <td>39.444444</td>\n",
       "      <td>40.15625</td>\n",
       "      <td>33.774194</td>\n",
       "      <td>42.866667</td>\n",
       "      <td>37.058824</td>\n",
       "      <td>38.799127</td>\n",
       "      <td>37.193548</td>\n",
       "      <td>41.6</td>\n",
       "    </tr>\n",
       "    <tr>\n",
       "      <th>&gt;50K</th>\n",
       "      <td>45.547945</td>\n",
       "      <td>40.000000</td>\n",
       "      <td>45.641026</td>\n",
       "      <td>38.900000</td>\n",
       "      <td>50.000000</td>\n",
       "      <td>42.440000</td>\n",
       "      <td>47.000000</td>\n",
       "      <td>48.750000</td>\n",
       "      <td>45.000000</td>\n",
       "      <td>44.533333</td>\n",
       "      <td>50.750000</td>\n",
       "      <td>44.977273</td>\n",
       "      <td>50.625000</td>\n",
       "      <td>36.666667</td>\n",
       "      <td>42.750</td>\n",
       "      <td>NaN</td>\n",
       "      <td>60.000000</td>\n",
       "      <td>45.000000</td>\n",
       "      <td>50.0</td>\n",
       "      <td>46.475000</td>\n",
       "      <td>47.50</td>\n",
       "      <td>48.000000</td>\n",
       "      <td>45.400</td>\n",
       "      <td>41.100000</td>\n",
       "      <td>47.958333</td>\n",
       "      <td>40.000</td>\n",
       "      <td>46.575758</td>\n",
       "      <td>37.50000</td>\n",
       "      <td>NaN</td>\n",
       "      <td>40.000000</td>\n",
       "      <td>43.032787</td>\n",
       "      <td>39.000000</td>\n",
       "      <td>41.500000</td>\n",
       "      <td>39.416667</td>\n",
       "      <td>46.666667</td>\n",
       "      <td>51.43750</td>\n",
       "      <td>46.800000</td>\n",
       "      <td>58.333333</td>\n",
       "      <td>40.000000</td>\n",
       "      <td>45.505369</td>\n",
       "      <td>39.200000</td>\n",
       "      <td>49.5</td>\n",
       "    </tr>\n",
       "  </tbody>\n",
       "</table>\n",
       "</div>"
      ],
      "text/plain": [
       "native-country          ?   Cambodia     Canada      China   Columbia  \\\n",
       "salary                                                                  \n",
       " <=50K          40.164760  41.416667  37.914634  37.381818  38.684211   \n",
       " >50K           45.547945  40.000000  45.641026  38.900000  50.000000   \n",
       "\n",
       "native-country       Cuba   Dominican-Republic    Ecuador   El-Salvador  \\\n",
       "salary                                                                    \n",
       " <=50K          37.985714            42.338235  38.041667     36.030928   \n",
       " >50K           42.440000            47.000000  48.750000     45.000000   \n",
       "\n",
       "native-country    England     France    Germany     Greece   Guatemala  \\\n",
       "salary                                                                   \n",
       " <=50K          40.483333  41.058824  39.139785  41.809524   39.360656   \n",
       " >50K           44.533333  50.750000  44.977273  50.625000   36.666667   \n",
       "\n",
       "native-country   Haiti   Holand-Netherlands   Honduras       Hong   Hungary  \\\n",
       "salary                                                                        \n",
       " <=50K          36.325                 40.0  34.333333  39.142857      31.3   \n",
       " >50K           42.750                  NaN  60.000000  45.000000      50.0   \n",
       "\n",
       "native-country      India   Iran    Ireland   Italy    Jamaica      Japan  \\\n",
       "salary                                                                      \n",
       " <=50K          38.233333  41.44  40.947368  39.625  38.239437  41.000000   \n",
       " >50K           46.475000  47.50  48.000000  45.400  41.100000  47.958333   \n",
       "\n",
       "native-country    Laos     Mexico   Nicaragua   Outlying-US(Guam-USVI-etc)  \\\n",
       "salary                                                                       \n",
       " <=50K          40.375  40.003279    36.09375                    41.857143   \n",
       " >50K           40.000  46.575758    37.50000                          NaN   \n",
       "\n",
       "native-country       Peru   Philippines     Poland   Portugal   Puerto-Rico  \\\n",
       "salary                                                                        \n",
       " <=50K          35.068966     38.065693  38.166667  41.939394     38.470588   \n",
       " >50K           40.000000     43.032787  39.000000  41.500000     39.416667   \n",
       "\n",
       "native-country   Scotland     South     Taiwan   Thailand   Trinadad&Tobago  \\\n",
       "salary                                                                        \n",
       " <=50K          39.444444  40.15625  33.774194  42.866667         37.058824   \n",
       " >50K           46.666667  51.43750  46.800000  58.333333         40.000000   \n",
       "\n",
       "native-country   United-States    Vietnam   Yugoslavia  \n",
       "salary                                                  \n",
       " <=50K               38.799127  37.193548         41.6  \n",
       " >50K                45.505369  39.200000         49.5  "
      ]
     },
     "execution_count": 18,
     "metadata": {},
     "output_type": "execute_result"
    }
   ],
   "source": [
    "pd.crosstab(data['native-country'], data['salary'], \n",
    "           values=data['hours-per-week'], aggfunc=np.mean).T"
   ]
  },
  {
   "cell_type": "code",
   "execution_count": 43,
   "metadata": {},
   "outputs": [
    {
     "data": {
      "text/html": [
       "<div>\n",
       "<style scoped>\n",
       "    .dataframe tbody tr th:only-of-type {\n",
       "        vertical-align: middle;\n",
       "    }\n",
       "\n",
       "    .dataframe tbody tr th {\n",
       "        vertical-align: top;\n",
       "    }\n",
       "\n",
       "    .dataframe thead th {\n",
       "        text-align: right;\n",
       "    }\n",
       "</style>\n",
       "<table border=\"1\" class=\"dataframe\">\n",
       "  <thead>\n",
       "    <tr style=\"text-align: right;\">\n",
       "      <th>native-country</th>\n",
       "      <th>Japan</th>\n",
       "    </tr>\n",
       "    <tr>\n",
       "      <th>salary</th>\n",
       "      <th></th>\n",
       "    </tr>\n",
       "  </thead>\n",
       "  <tbody>\n",
       "    <tr>\n",
       "      <th>&lt;=50K</th>\n",
       "      <td>41.000000</td>\n",
       "    </tr>\n",
       "    <tr>\n",
       "      <th>&gt;50K</th>\n",
       "      <td>47.958333</td>\n",
       "    </tr>\n",
       "  </tbody>\n",
       "</table>\n",
       "</div>"
      ],
      "text/plain": [
       "native-country      Japan\n",
       "salary                   \n",
       " <=50K          41.000000\n",
       " >50K           47.958333"
      ]
     },
     "execution_count": 43,
     "metadata": {},
     "output_type": "execute_result"
    }
   ],
   "source": [
    "pd.crosstab(data.loc[data['native-country'] == ' Japan', 'native-country'], data['salary'], \n",
    "           values=data['hours-per-week'], aggfunc=np.mean).T"
   ]
  },
  {
   "cell_type": "markdown",
   "metadata": {},
   "source": [
    "# Часть 2"
   ]
  },
  {
   "cell_type": "code",
   "execution_count": 45,
   "metadata": {},
   "outputs": [
    {
     "data": {
      "text/html": [
       "<div>\n",
       "<style scoped>\n",
       "    .dataframe tbody tr th:only-of-type {\n",
       "        vertical-align: middle;\n",
       "    }\n",
       "\n",
       "    .dataframe tbody tr th {\n",
       "        vertical-align: top;\n",
       "    }\n",
       "\n",
       "    .dataframe thead th {\n",
       "        text-align: right;\n",
       "    }\n",
       "</style>\n",
       "<table border=\"1\" class=\"dataframe\">\n",
       "  <thead>\n",
       "    <tr style=\"text-align: right;\">\n",
       "      <th></th>\n",
       "      <th>Retail Branding</th>\n",
       "      <th>Marketing Name</th>\n",
       "      <th>Device</th>\n",
       "      <th>Model</th>\n",
       "    </tr>\n",
       "  </thead>\n",
       "  <tbody>\n",
       "    <tr>\n",
       "      <th>0</th>\n",
       "      <td>NaN</td>\n",
       "      <td>NaN</td>\n",
       "      <td>AD681H</td>\n",
       "      <td>Smartfren Andromax AD681H</td>\n",
       "    </tr>\n",
       "    <tr>\n",
       "      <th>1</th>\n",
       "      <td>NaN</td>\n",
       "      <td>NaN</td>\n",
       "      <td>FJL21</td>\n",
       "      <td>FJL21</td>\n",
       "    </tr>\n",
       "    <tr>\n",
       "      <th>2</th>\n",
       "      <td>NaN</td>\n",
       "      <td>NaN</td>\n",
       "      <td>T31</td>\n",
       "      <td>Panasonic T31</td>\n",
       "    </tr>\n",
       "    <tr>\n",
       "      <th>3</th>\n",
       "      <td>NaN</td>\n",
       "      <td>NaN</td>\n",
       "      <td>hws7721g</td>\n",
       "      <td>MediaPad 7 Youth 2</td>\n",
       "    </tr>\n",
       "    <tr>\n",
       "      <th>4</th>\n",
       "      <td>3Q</td>\n",
       "      <td>OC1020A</td>\n",
       "      <td>OC1020A</td>\n",
       "      <td>OC1020A</td>\n",
       "    </tr>\n",
       "  </tbody>\n",
       "</table>\n",
       "</div>"
      ],
      "text/plain": [
       "  Retail Branding Marketing Name    Device                      Model\n",
       "0             NaN            NaN    AD681H  Smartfren Andromax AD681H\n",
       "1             NaN            NaN     FJL21                      FJL21\n",
       "2             NaN            NaN       T31              Panasonic T31\n",
       "3             NaN            NaN  hws7721g         MediaPad 7 Youth 2\n",
       "4              3Q        OC1020A   OC1020A                    OC1020A"
      ]
     },
     "execution_count": 45,
     "metadata": {},
     "output_type": "execute_result"
    }
   ],
   "source": [
    "android_devices = pd.read_csv('D:/Загрузки/Pandas-Merge-Tutorial-master/android_devices.csv')\n",
    "android_devices.head()"
   ]
  },
  {
   "cell_type": "code",
   "execution_count": 47,
   "metadata": {},
   "outputs": [
    {
     "data": {
      "text/html": [
       "<div>\n",
       "<style scoped>\n",
       "    .dataframe tbody tr th:only-of-type {\n",
       "        vertical-align: middle;\n",
       "    }\n",
       "\n",
       "    .dataframe tbody tr th {\n",
       "        vertical-align: top;\n",
       "    }\n",
       "\n",
       "    .dataframe thead th {\n",
       "        text-align: right;\n",
       "    }\n",
       "</style>\n",
       "<table border=\"1\" class=\"dataframe\">\n",
       "  <thead>\n",
       "    <tr style=\"text-align: right;\">\n",
       "      <th></th>\n",
       "      <th>use_id</th>\n",
       "      <th>user_id</th>\n",
       "      <th>platform</th>\n",
       "      <th>platform_version</th>\n",
       "      <th>device</th>\n",
       "      <th>use_type_id</th>\n",
       "    </tr>\n",
       "  </thead>\n",
       "  <tbody>\n",
       "    <tr>\n",
       "      <th>0</th>\n",
       "      <td>22782</td>\n",
       "      <td>26980</td>\n",
       "      <td>ios</td>\n",
       "      <td>10.2</td>\n",
       "      <td>iPhone7,2</td>\n",
       "      <td>2</td>\n",
       "    </tr>\n",
       "    <tr>\n",
       "      <th>1</th>\n",
       "      <td>22783</td>\n",
       "      <td>29628</td>\n",
       "      <td>android</td>\n",
       "      <td>6.0</td>\n",
       "      <td>Nexus 5</td>\n",
       "      <td>3</td>\n",
       "    </tr>\n",
       "    <tr>\n",
       "      <th>2</th>\n",
       "      <td>22784</td>\n",
       "      <td>28473</td>\n",
       "      <td>android</td>\n",
       "      <td>5.1</td>\n",
       "      <td>SM-G903F</td>\n",
       "      <td>1</td>\n",
       "    </tr>\n",
       "    <tr>\n",
       "      <th>3</th>\n",
       "      <td>22785</td>\n",
       "      <td>15200</td>\n",
       "      <td>ios</td>\n",
       "      <td>10.2</td>\n",
       "      <td>iPhone7,2</td>\n",
       "      <td>3</td>\n",
       "    </tr>\n",
       "    <tr>\n",
       "      <th>4</th>\n",
       "      <td>22786</td>\n",
       "      <td>28239</td>\n",
       "      <td>android</td>\n",
       "      <td>6.0</td>\n",
       "      <td>ONE E1003</td>\n",
       "      <td>1</td>\n",
       "    </tr>\n",
       "  </tbody>\n",
       "</table>\n",
       "</div>"
      ],
      "text/plain": [
       "   use_id  user_id platform  platform_version     device  use_type_id\n",
       "0   22782    26980      ios              10.2  iPhone7,2            2\n",
       "1   22783    29628  android               6.0    Nexus 5            3\n",
       "2   22784    28473  android               5.1   SM-G903F            1\n",
       "3   22785    15200      ios              10.2  iPhone7,2            3\n",
       "4   22786    28239  android               6.0  ONE E1003            1"
      ]
     },
     "execution_count": 47,
     "metadata": {},
     "output_type": "execute_result"
    }
   ],
   "source": [
    "user_device = pd.read_csv('D:/Загрузки/Pandas-Merge-Tutorial-master/user_device.csv')\n",
    "user_device.head()"
   ]
  },
  {
   "cell_type": "code",
   "execution_count": 49,
   "metadata": {},
   "outputs": [
    {
     "data": {
      "text/html": [
       "<div>\n",
       "<style scoped>\n",
       "    .dataframe tbody tr th:only-of-type {\n",
       "        vertical-align: middle;\n",
       "    }\n",
       "\n",
       "    .dataframe tbody tr th {\n",
       "        vertical-align: top;\n",
       "    }\n",
       "\n",
       "    .dataframe thead th {\n",
       "        text-align: right;\n",
       "    }\n",
       "</style>\n",
       "<table border=\"1\" class=\"dataframe\">\n",
       "  <thead>\n",
       "    <tr style=\"text-align: right;\">\n",
       "      <th></th>\n",
       "      <th>outgoing_mins_per_month</th>\n",
       "      <th>outgoing_sms_per_month</th>\n",
       "      <th>monthly_mb</th>\n",
       "      <th>use_id</th>\n",
       "    </tr>\n",
       "  </thead>\n",
       "  <tbody>\n",
       "    <tr>\n",
       "      <th>0</th>\n",
       "      <td>21.97</td>\n",
       "      <td>4.82</td>\n",
       "      <td>1557.33</td>\n",
       "      <td>22787</td>\n",
       "    </tr>\n",
       "    <tr>\n",
       "      <th>1</th>\n",
       "      <td>1710.08</td>\n",
       "      <td>136.88</td>\n",
       "      <td>7267.55</td>\n",
       "      <td>22788</td>\n",
       "    </tr>\n",
       "    <tr>\n",
       "      <th>2</th>\n",
       "      <td>1710.08</td>\n",
       "      <td>136.88</td>\n",
       "      <td>7267.55</td>\n",
       "      <td>22789</td>\n",
       "    </tr>\n",
       "    <tr>\n",
       "      <th>3</th>\n",
       "      <td>94.46</td>\n",
       "      <td>35.17</td>\n",
       "      <td>519.12</td>\n",
       "      <td>22790</td>\n",
       "    </tr>\n",
       "    <tr>\n",
       "      <th>4</th>\n",
       "      <td>71.59</td>\n",
       "      <td>79.26</td>\n",
       "      <td>1557.33</td>\n",
       "      <td>22792</td>\n",
       "    </tr>\n",
       "  </tbody>\n",
       "</table>\n",
       "</div>"
      ],
      "text/plain": [
       "   outgoing_mins_per_month  outgoing_sms_per_month  monthly_mb  use_id\n",
       "0                    21.97                    4.82     1557.33   22787\n",
       "1                  1710.08                  136.88     7267.55   22788\n",
       "2                  1710.08                  136.88     7267.55   22789\n",
       "3                    94.46                   35.17      519.12   22790\n",
       "4                    71.59                   79.26     1557.33   22792"
      ]
     },
     "execution_count": 49,
     "metadata": {},
     "output_type": "execute_result"
    }
   ],
   "source": [
    "user_usage = pd.read_csv('D:/Загрузки/Pandas-Merge-Tutorial-master/user_usage.csv')\n",
    "user_usage.head()"
   ]
  },
  {
   "cell_type": "markdown",
   "metadata": {},
   "source": [
    "### Использование Pandas"
   ]
  },
  {
   "cell_type": "markdown",
   "metadata": {},
   "source": [
    "***Запрос на соединение двух наборов данных***"
   ]
  },
  {
   "cell_type": "code",
   "execution_count": 52,
   "metadata": {},
   "outputs": [
    {
     "data": {
      "text/html": [
       "<div>\n",
       "<style scoped>\n",
       "    .dataframe tbody tr th:only-of-type {\n",
       "        vertical-align: middle;\n",
       "    }\n",
       "\n",
       "    .dataframe tbody tr th {\n",
       "        vertical-align: top;\n",
       "    }\n",
       "\n",
       "    .dataframe thead th {\n",
       "        text-align: right;\n",
       "    }\n",
       "</style>\n",
       "<table border=\"1\" class=\"dataframe\">\n",
       "  <thead>\n",
       "    <tr style=\"text-align: right;\">\n",
       "      <th></th>\n",
       "      <th>outgoing_mins_per_month</th>\n",
       "      <th>outgoing_sms_per_month</th>\n",
       "      <th>monthly_mb</th>\n",
       "      <th>use_id</th>\n",
       "      <th>platform</th>\n",
       "      <th>device</th>\n",
       "    </tr>\n",
       "  </thead>\n",
       "  <tbody>\n",
       "    <tr>\n",
       "      <th>0</th>\n",
       "      <td>21.97</td>\n",
       "      <td>4.82</td>\n",
       "      <td>1557.33</td>\n",
       "      <td>22787</td>\n",
       "      <td>android</td>\n",
       "      <td>GT-I9505</td>\n",
       "    </tr>\n",
       "    <tr>\n",
       "      <th>1</th>\n",
       "      <td>1710.08</td>\n",
       "      <td>136.88</td>\n",
       "      <td>7267.55</td>\n",
       "      <td>22788</td>\n",
       "      <td>android</td>\n",
       "      <td>SM-G930F</td>\n",
       "    </tr>\n",
       "    <tr>\n",
       "      <th>2</th>\n",
       "      <td>1710.08</td>\n",
       "      <td>136.88</td>\n",
       "      <td>7267.55</td>\n",
       "      <td>22789</td>\n",
       "      <td>android</td>\n",
       "      <td>SM-G930F</td>\n",
       "    </tr>\n",
       "    <tr>\n",
       "      <th>3</th>\n",
       "      <td>94.46</td>\n",
       "      <td>35.17</td>\n",
       "      <td>519.12</td>\n",
       "      <td>22790</td>\n",
       "      <td>android</td>\n",
       "      <td>D2303</td>\n",
       "    </tr>\n",
       "    <tr>\n",
       "      <th>4</th>\n",
       "      <td>71.59</td>\n",
       "      <td>79.26</td>\n",
       "      <td>1557.33</td>\n",
       "      <td>22792</td>\n",
       "      <td>android</td>\n",
       "      <td>SM-G361F</td>\n",
       "    </tr>\n",
       "  </tbody>\n",
       "</table>\n",
       "</div>"
      ],
      "text/plain": [
       "   outgoing_mins_per_month  outgoing_sms_per_month  monthly_mb  use_id  \\\n",
       "0                    21.97                    4.82     1557.33   22787   \n",
       "1                  1710.08                  136.88     7267.55   22788   \n",
       "2                  1710.08                  136.88     7267.55   22789   \n",
       "3                    94.46                   35.17      519.12   22790   \n",
       "4                    71.59                   79.26     1557.33   22792   \n",
       "\n",
       "  platform    device  \n",
       "0  android  GT-I9505  \n",
       "1  android  SM-G930F  \n",
       "2  android  SM-G930F  \n",
       "3  android     D2303  \n",
       "4  android  SM-G361F  "
      ]
     },
     "execution_count": 52,
     "metadata": {},
     "output_type": "execute_result"
    }
   ],
   "source": [
    "join_pd = pd.merge(user_usage,\n",
    "                 user_device[['use_id', 'platform', 'device']],\n",
    "                 on='use_id')\n",
    "join_pd.head()"
   ]
  },
  {
   "cell_type": "markdown",
   "metadata": {},
   "source": [
    "***Запрос на группировку набора данных с использованием функций агрегирования***"
   ]
  },
  {
   "cell_type": "code",
   "execution_count": 59,
   "metadata": {},
   "outputs": [
    {
     "data": {
      "text/html": [
       "<div>\n",
       "<style scoped>\n",
       "    .dataframe tbody tr th:only-of-type {\n",
       "        vertical-align: middle;\n",
       "    }\n",
       "\n",
       "    .dataframe tbody tr th {\n",
       "        vertical-align: top;\n",
       "    }\n",
       "\n",
       "    .dataframe thead th {\n",
       "        text-align: right;\n",
       "    }\n",
       "</style>\n",
       "<table border=\"1\" class=\"dataframe\">\n",
       "  <thead>\n",
       "    <tr style=\"text-align: right;\">\n",
       "      <th></th>\n",
       "      <th>platform</th>\n",
       "      <th>device</th>\n",
       "    </tr>\n",
       "  </thead>\n",
       "  <tbody>\n",
       "    <tr>\n",
       "      <th>0</th>\n",
       "      <td>android</td>\n",
       "      <td>184</td>\n",
       "    </tr>\n",
       "    <tr>\n",
       "      <th>1</th>\n",
       "      <td>ios</td>\n",
       "      <td>88</td>\n",
       "    </tr>\n",
       "  </tbody>\n",
       "</table>\n",
       "</div>"
      ],
      "text/plain": [
       "  platform  device\n",
       "0  android     184\n",
       "1      ios      88"
      ]
     },
     "execution_count": 59,
     "metadata": {},
     "output_type": "execute_result"
    }
   ],
   "source": [
    "group_pd = user_device.groupby('platform').count().reset_index()[['platform','device']]\n",
    "group_pd"
   ]
  },
  {
   "cell_type": "markdown",
   "metadata": {},
   "source": [
    "### Использование PandaSQL"
   ]
  },
  {
   "cell_type": "code",
   "execution_count": 61,
   "metadata": {},
   "outputs": [
    {
     "data": {
      "text/html": [
       "<div>\n",
       "<style scoped>\n",
       "    .dataframe tbody tr th:only-of-type {\n",
       "        vertical-align: middle;\n",
       "    }\n",
       "\n",
       "    .dataframe tbody tr th {\n",
       "        vertical-align: top;\n",
       "    }\n",
       "\n",
       "    .dataframe thead th {\n",
       "        text-align: right;\n",
       "    }\n",
       "</style>\n",
       "<table border=\"1\" class=\"dataframe\">\n",
       "  <thead>\n",
       "    <tr style=\"text-align: right;\">\n",
       "      <th></th>\n",
       "      <th>use_id</th>\n",
       "      <th>user_id</th>\n",
       "      <th>platform</th>\n",
       "      <th>platform_version</th>\n",
       "      <th>device</th>\n",
       "      <th>use_type_id</th>\n",
       "    </tr>\n",
       "  </thead>\n",
       "  <tbody>\n",
       "    <tr>\n",
       "      <th>0</th>\n",
       "      <td>22782</td>\n",
       "      <td>26980</td>\n",
       "      <td>ios</td>\n",
       "      <td>10.2</td>\n",
       "      <td>iPhone7,2</td>\n",
       "      <td>2</td>\n",
       "    </tr>\n",
       "    <tr>\n",
       "      <th>1</th>\n",
       "      <td>22783</td>\n",
       "      <td>29628</td>\n",
       "      <td>android</td>\n",
       "      <td>6.0</td>\n",
       "      <td>Nexus 5</td>\n",
       "      <td>3</td>\n",
       "    </tr>\n",
       "    <tr>\n",
       "      <th>2</th>\n",
       "      <td>22784</td>\n",
       "      <td>28473</td>\n",
       "      <td>android</td>\n",
       "      <td>5.1</td>\n",
       "      <td>SM-G903F</td>\n",
       "      <td>1</td>\n",
       "    </tr>\n",
       "    <tr>\n",
       "      <th>3</th>\n",
       "      <td>22785</td>\n",
       "      <td>15200</td>\n",
       "      <td>ios</td>\n",
       "      <td>10.2</td>\n",
       "      <td>iPhone7,2</td>\n",
       "      <td>3</td>\n",
       "    </tr>\n",
       "    <tr>\n",
       "      <th>4</th>\n",
       "      <td>22786</td>\n",
       "      <td>28239</td>\n",
       "      <td>android</td>\n",
       "      <td>6.0</td>\n",
       "      <td>ONE E1003</td>\n",
       "      <td>1</td>\n",
       "    </tr>\n",
       "  </tbody>\n",
       "</table>\n",
       "</div>"
      ],
      "text/plain": [
       "   use_id  user_id platform  platform_version     device  use_type_id\n",
       "0   22782    26980      ios              10.2  iPhone7,2            2\n",
       "1   22783    29628  android               6.0    Nexus 5            3\n",
       "2   22784    28473  android               5.1   SM-G903F            1\n",
       "3   22785    15200      ios              10.2  iPhone7,2            3\n",
       "4   22786    28239  android               6.0  ONE E1003            1"
      ]
     },
     "execution_count": 61,
     "metadata": {},
     "output_type": "execute_result"
    }
   ],
   "source": [
    "import pandasql as ps\n",
    "\n",
    "ps.sqldf('select * from user_device limit 5', locals())"
   ]
  },
  {
   "cell_type": "markdown",
   "metadata": {},
   "source": [
    "***Запрос на соединение двух наборов данных***"
   ]
  },
  {
   "cell_type": "code",
   "execution_count": 64,
   "metadata": {},
   "outputs": [
    {
     "data": {
      "text/html": [
       "<div>\n",
       "<style scoped>\n",
       "    .dataframe tbody tr th:only-of-type {\n",
       "        vertical-align: middle;\n",
       "    }\n",
       "\n",
       "    .dataframe tbody tr th {\n",
       "        vertical-align: top;\n",
       "    }\n",
       "\n",
       "    .dataframe thead th {\n",
       "        text-align: right;\n",
       "    }\n",
       "</style>\n",
       "<table border=\"1\" class=\"dataframe\">\n",
       "  <thead>\n",
       "    <tr style=\"text-align: right;\">\n",
       "      <th></th>\n",
       "      <th>outgoing_mins_per_month</th>\n",
       "      <th>outgoing_sms_per_month</th>\n",
       "      <th>monthly_mb</th>\n",
       "      <th>use_id</th>\n",
       "      <th>use_id</th>\n",
       "      <th>user_id</th>\n",
       "      <th>platform</th>\n",
       "      <th>platform_version</th>\n",
       "      <th>device</th>\n",
       "      <th>use_type_id</th>\n",
       "    </tr>\n",
       "  </thead>\n",
       "  <tbody>\n",
       "    <tr>\n",
       "      <th>0</th>\n",
       "      <td>21.97</td>\n",
       "      <td>4.82</td>\n",
       "      <td>1557.33</td>\n",
       "      <td>22787</td>\n",
       "      <td>22787</td>\n",
       "      <td>12921</td>\n",
       "      <td>android</td>\n",
       "      <td>4.3</td>\n",
       "      <td>GT-I9505</td>\n",
       "      <td>1</td>\n",
       "    </tr>\n",
       "    <tr>\n",
       "      <th>1</th>\n",
       "      <td>1710.08</td>\n",
       "      <td>136.88</td>\n",
       "      <td>7267.55</td>\n",
       "      <td>22788</td>\n",
       "      <td>22788</td>\n",
       "      <td>28714</td>\n",
       "      <td>android</td>\n",
       "      <td>6.0</td>\n",
       "      <td>SM-G930F</td>\n",
       "      <td>1</td>\n",
       "    </tr>\n",
       "    <tr>\n",
       "      <th>2</th>\n",
       "      <td>1710.08</td>\n",
       "      <td>136.88</td>\n",
       "      <td>7267.55</td>\n",
       "      <td>22789</td>\n",
       "      <td>22789</td>\n",
       "      <td>28714</td>\n",
       "      <td>android</td>\n",
       "      <td>6.0</td>\n",
       "      <td>SM-G930F</td>\n",
       "      <td>1</td>\n",
       "    </tr>\n",
       "    <tr>\n",
       "      <th>3</th>\n",
       "      <td>94.46</td>\n",
       "      <td>35.17</td>\n",
       "      <td>519.12</td>\n",
       "      <td>22790</td>\n",
       "      <td>22790</td>\n",
       "      <td>29592</td>\n",
       "      <td>android</td>\n",
       "      <td>5.1</td>\n",
       "      <td>D2303</td>\n",
       "      <td>1</td>\n",
       "    </tr>\n",
       "    <tr>\n",
       "      <th>4</th>\n",
       "      <td>71.59</td>\n",
       "      <td>79.26</td>\n",
       "      <td>1557.33</td>\n",
       "      <td>22792</td>\n",
       "      <td>22792</td>\n",
       "      <td>28217</td>\n",
       "      <td>android</td>\n",
       "      <td>5.1</td>\n",
       "      <td>SM-G361F</td>\n",
       "      <td>1</td>\n",
       "    </tr>\n",
       "  </tbody>\n",
       "</table>\n",
       "</div>"
      ],
      "text/plain": [
       "   outgoing_mins_per_month  outgoing_sms_per_month  monthly_mb  use_id  \\\n",
       "0                    21.97                    4.82     1557.33   22787   \n",
       "1                  1710.08                  136.88     7267.55   22788   \n",
       "2                  1710.08                  136.88     7267.55   22789   \n",
       "3                    94.46                   35.17      519.12   22790   \n",
       "4                    71.59                   79.26     1557.33   22792   \n",
       "\n",
       "   use_id  user_id platform  platform_version    device  use_type_id  \n",
       "0   22787    12921  android               4.3  GT-I9505            1  \n",
       "1   22788    28714  android               6.0  SM-G930F            1  \n",
       "2   22789    28714  android               6.0  SM-G930F            1  \n",
       "3   22790    29592  android               5.1     D2303            1  \n",
       "4   22792    28217  android               5.1  SM-G361F            1  "
      ]
     },
     "execution_count": 64,
     "metadata": {},
     "output_type": "execute_result"
    }
   ],
   "source": [
    "join_ps = ps.sqldf('select * from user_usage join user_device on user_device.use_id = user_usage.use_id', locals())\n",
    "join_ps.head()"
   ]
  },
  {
   "cell_type": "code",
   "execution_count": 66,
   "metadata": {},
   "outputs": [
    {
     "data": {
      "text/html": [
       "<div>\n",
       "<style scoped>\n",
       "    .dataframe tbody tr th:only-of-type {\n",
       "        vertical-align: middle;\n",
       "    }\n",
       "\n",
       "    .dataframe tbody tr th {\n",
       "        vertical-align: top;\n",
       "    }\n",
       "\n",
       "    .dataframe thead th {\n",
       "        text-align: right;\n",
       "    }\n",
       "</style>\n",
       "<table border=\"1\" class=\"dataframe\">\n",
       "  <thead>\n",
       "    <tr style=\"text-align: right;\">\n",
       "      <th></th>\n",
       "      <th>platform</th>\n",
       "      <th>count(device)</th>\n",
       "    </tr>\n",
       "  </thead>\n",
       "  <tbody>\n",
       "    <tr>\n",
       "      <th>0</th>\n",
       "      <td>android</td>\n",
       "      <td>184</td>\n",
       "    </tr>\n",
       "    <tr>\n",
       "      <th>1</th>\n",
       "      <td>ios</td>\n",
       "      <td>88</td>\n",
       "    </tr>\n",
       "  </tbody>\n",
       "</table>\n",
       "</div>"
      ],
      "text/plain": [
       "  platform  count(device)\n",
       "0  android            184\n",
       "1      ios             88"
      ]
     },
     "execution_count": 66,
     "metadata": {},
     "output_type": "execute_result"
    }
   ],
   "source": [
    "group_ps = ps.sqldf('select platform, count(device) from user_device group by platform', locals())\n",
    "group_ps"
   ]
  },
  {
   "cell_type": "markdown",
   "metadata": {},
   "source": [
    "***Сравнение времени выполнения запросов библиотек Pandas и PandaSQL***"
   ]
  },
  {
   "cell_type": "code",
   "execution_count": 86,
   "metadata": {},
   "outputs": [
    {
     "data": {
      "text/plain": [
       "6.999999868639861e-07"
      ]
     },
     "execution_count": 86,
     "metadata": {},
     "output_type": "execute_result"
    }
   ],
   "source": [
    "import timeit\n",
    "\n",
    "time_group_ps = timeit.timeit(\"group_ps\", setup=\"from __main__ import group_ps\", number=1)\n",
    "time_group_ps # 0.0000006999999868639861"
   ]
  },
  {
   "cell_type": "code",
   "execution_count": 88,
   "metadata": {},
   "outputs": [
    {
     "data": {
      "text/plain": [
       "3.9999997625272954e-07"
      ]
     },
     "execution_count": 88,
     "metadata": {},
     "output_type": "execute_result"
    }
   ],
   "source": [
    "time_join_ps = timeit.timeit(\"join_ps\", setup=\"from __main__ import join_ps\", number=1)\n",
    "time_join_ps # 0.00000039999997625272954"
   ]
  },
  {
   "cell_type": "code",
   "execution_count": 113,
   "metadata": {},
   "outputs": [
    {
     "data": {
      "text/plain": [
       "5.000000555810402e-07"
      ]
     },
     "execution_count": 113,
     "metadata": {},
     "output_type": "execute_result"
    }
   ],
   "source": [
    "time_group_pd = timeit.timeit(\"group_pd\", setup=\"from __main__ import group_pd\", number=1)\n",
    "time_group_pd # 0.0000005000000555810402"
   ]
  },
  {
   "cell_type": "code",
   "execution_count": 104,
   "metadata": {},
   "outputs": [
    {
     "data": {
      "text/plain": [
       "3.000000106112566e-07"
      ]
     },
     "execution_count": 104,
     "metadata": {},
     "output_type": "execute_result"
    }
   ],
   "source": [
    "time_join_pd = timeit.timeit(\"join_pd\", setup=\"from __main__ import join_pd\", number=1)\n",
    "time_join_pd # 0.0000003000000106112566"
   ]
  },
  {
   "cell_type": "code",
   "execution_count": 114,
   "metadata": {},
   "outputs": [
    {
     "name": "stdout",
     "output_type": "stream",
     "text": [
      "Pandas is better\n"
     ]
    }
   ],
   "source": [
    "if (time_group_ps > time_group_pd) & (time_join_ps > time_join_pd):\n",
    "    print(\"Pandas is better\")\n",
    "else:\n",
    "    print(\"PandaSQL is better\")"
   ]
  }
 ],
 "metadata": {
  "kernelspec": {
   "display_name": "Python 3",
   "language": "python",
   "name": "python3"
  },
  "language_info": {
   "codemirror_mode": {
    "name": "ipython",
    "version": 3
   },
   "file_extension": ".py",
   "mimetype": "text/x-python",
   "name": "python",
   "nbconvert_exporter": "python",
   "pygments_lexer": "ipython3",
   "version": "3.6.3"
  }
 },
 "nbformat": 4,
 "nbformat_minor": 4
}
