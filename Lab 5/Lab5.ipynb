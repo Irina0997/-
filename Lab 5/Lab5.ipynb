{
 "cells": [
  {
   "cell_type": "markdown",
   "metadata": {},
   "source": [
    "# Лабораторная работа №5. Линейные модели, SVM и деревья решений."
   ]
  },
  {
   "cell_type": "markdown",
   "metadata": {},
   "source": [
    "**Цель лабораторной работы:** изучение линейных моделей, SVM и деревьев решений.\n",
    "\n",
    "**Требования к отчету:**\n",
    "отчет по лабораторной работе должен содержать:\n",
    "- титульный лист;\n",
    "- описание задания;\n",
    "- текст программы;\n",
    "- экранные формы с примерами выполнения программы.\n",
    "\n",
    "# Задание:\n",
    "1. Выберите набор данных (датасет) для решения задачи классификации или регрессии.\n",
    "2. В случае необходимости проведите удаление или заполнение пропусков и кодирование категориальных признаков.\n",
    "3. С использованием метода train_test_split разделите выборку на обучающую и тестовую.\n",
    "4. Обучите следующие модели:\n",
    "    - одну из линейных моделей;\n",
    "    - SVM;\n",
    "    - дерево решений.\n",
    "5. Оцените качество моделей с помощью трех подходящих для задачи метрик. Сравните качество полученных моделей.\n",
    "6. Произведите для каждой модели подбор одного гиперпараметра с использованием GridSearchCV и кросс-валидации.\n",
    "7. Повторите пункт 4 для найденных оптимальных значений гиперпараметров. Сравните качество полученных моделей с качеством моделей, полученных в пункте 4."
   ]
  },
  {
   "cell_type": "markdown",
   "metadata": {},
   "source": [
    "# Текстовое описание набора данных"
   ]
  },
  {
   "cell_type": "markdown",
   "metadata": {},
   "source": [
    "Используется набор данных, использующий данные химического анализа для установления происхождения вина: https://archive.ics.uci.edu/ml/datasets/Wine\n",
    "\n",
    "Эти данные являются результатами химического анализа вин, выращенных в одном регионе Италии, но полученных из трех различных сортов. В результате анализа было определено 13 компонентов, содержащихся в каждом из трех видов вин. \n",
    "\n",
    "Датасет содержит следующие колонки:\n",
    "- Алкоголь \n",
    "- Яблочная кислота \n",
    "- Зола \n",
    "- Щелочность золы \n",
    "- Магний \n",
    "- Всего фенолов \n",
    "- Флаваноиды \n",
    "- Нефлаваноидные фенолы \n",
    "- Проантоцианы \n",
    "- Интенсивность цвета \n",
    "- Оттенок \n",
    "- OD280 / OD315 (разбавленность вина) \n",
    "- Пролин "
   ]
  },
  {
   "cell_type": "markdown",
   "metadata": {},
   "source": [
    "## 1. Выбор датасета"
   ]
  },
  {
   "cell_type": "code",
   "execution_count": 65,
   "metadata": {},
   "outputs": [],
   "source": [
    "from IPython.display import Image\n",
    "import numpy as np\n",
    "import pandas as pd\n",
    "from sklearn.model_selection import train_test_split\n",
    "from sklearn.datasets import load_wine\n",
    "from sklearn.neighbors import KNeighborsRegressor, KNeighborsClassifier\n",
    "from sklearn.model_selection import cross_val_score, cross_validate\n",
    "from sklearn.model_selection import KFold, RepeatedKFold, LeaveOneOut, LeavePOut, ShuffleSplit, StratifiedKFold\n",
    "from sklearn.metrics import accuracy_score, balanced_accuracy_score\n",
    "from sklearn.metrics import precision_score, recall_score, f1_score, classification_report\n",
    "from sklearn.metrics import confusion_matrix\n",
    "from sklearn.metrics import mean_absolute_error, mean_squared_error, mean_squared_log_error, median_absolute_error, r2_score \n",
    "from sklearn.metrics import roc_curve, roc_auc_score\n",
    "from sklearn.model_selection import GridSearchCV, RandomizedSearchCV\n",
    "from sklearn.model_selection import learning_curve, validation_curve\n",
    "import seaborn as sns\n",
    "import matplotlib.pyplot as plt\n",
    "from typing import Dict, Tuple\n",
    "from sklearn.linear_model import LinearRegression, BayesianRidge\n",
    "from sklearn.tree import DecisionTreeRegressor\n",
    "%matplotlib inline \n",
    "sns.set(style=\"ticks\")"
   ]
  },
  {
   "cell_type": "code",
   "execution_count": 2,
   "metadata": {},
   "outputs": [],
   "source": [
    "wine = load_wine()"
   ]
  },
  {
   "cell_type": "code",
   "execution_count": 3,
   "metadata": {},
   "outputs": [
    {
     "data": {
      "text/html": [
       "<div>\n",
       "<style scoped>\n",
       "    .dataframe tbody tr th:only-of-type {\n",
       "        vertical-align: middle;\n",
       "    }\n",
       "\n",
       "    .dataframe tbody tr th {\n",
       "        vertical-align: top;\n",
       "    }\n",
       "\n",
       "    .dataframe thead th {\n",
       "        text-align: right;\n",
       "    }\n",
       "</style>\n",
       "<table border=\"1\" class=\"dataframe\">\n",
       "  <thead>\n",
       "    <tr style=\"text-align: right;\">\n",
       "      <th></th>\n",
       "      <th>alcohol</th>\n",
       "      <th>malic_acid</th>\n",
       "      <th>ash</th>\n",
       "      <th>alcalinity_of_ash</th>\n",
       "      <th>magnesium</th>\n",
       "      <th>total_phenols</th>\n",
       "      <th>flavanoids</th>\n",
       "      <th>nonflavanoid_phenols</th>\n",
       "      <th>proanthocyanins</th>\n",
       "      <th>color_intensity</th>\n",
       "      <th>hue</th>\n",
       "      <th>od280/od315_of_diluted_wines</th>\n",
       "      <th>proline</th>\n",
       "      <th>target</th>\n",
       "    </tr>\n",
       "  </thead>\n",
       "  <tbody>\n",
       "    <tr>\n",
       "      <th>0</th>\n",
       "      <td>14.23</td>\n",
       "      <td>1.71</td>\n",
       "      <td>2.43</td>\n",
       "      <td>15.6</td>\n",
       "      <td>127.0</td>\n",
       "      <td>2.80</td>\n",
       "      <td>3.06</td>\n",
       "      <td>0.28</td>\n",
       "      <td>2.29</td>\n",
       "      <td>5.64</td>\n",
       "      <td>1.04</td>\n",
       "      <td>3.92</td>\n",
       "      <td>1065.0</td>\n",
       "      <td>0.0</td>\n",
       "    </tr>\n",
       "    <tr>\n",
       "      <th>1</th>\n",
       "      <td>13.20</td>\n",
       "      <td>1.78</td>\n",
       "      <td>2.14</td>\n",
       "      <td>11.2</td>\n",
       "      <td>100.0</td>\n",
       "      <td>2.65</td>\n",
       "      <td>2.76</td>\n",
       "      <td>0.26</td>\n",
       "      <td>1.28</td>\n",
       "      <td>4.38</td>\n",
       "      <td>1.05</td>\n",
       "      <td>3.40</td>\n",
       "      <td>1050.0</td>\n",
       "      <td>0.0</td>\n",
       "    </tr>\n",
       "    <tr>\n",
       "      <th>2</th>\n",
       "      <td>13.16</td>\n",
       "      <td>2.36</td>\n",
       "      <td>2.67</td>\n",
       "      <td>18.6</td>\n",
       "      <td>101.0</td>\n",
       "      <td>2.80</td>\n",
       "      <td>3.24</td>\n",
       "      <td>0.30</td>\n",
       "      <td>2.81</td>\n",
       "      <td>5.68</td>\n",
       "      <td>1.03</td>\n",
       "      <td>3.17</td>\n",
       "      <td>1185.0</td>\n",
       "      <td>0.0</td>\n",
       "    </tr>\n",
       "    <tr>\n",
       "      <th>3</th>\n",
       "      <td>14.37</td>\n",
       "      <td>1.95</td>\n",
       "      <td>2.50</td>\n",
       "      <td>16.8</td>\n",
       "      <td>113.0</td>\n",
       "      <td>3.85</td>\n",
       "      <td>3.49</td>\n",
       "      <td>0.24</td>\n",
       "      <td>2.18</td>\n",
       "      <td>7.80</td>\n",
       "      <td>0.86</td>\n",
       "      <td>3.45</td>\n",
       "      <td>1480.0</td>\n",
       "      <td>0.0</td>\n",
       "    </tr>\n",
       "    <tr>\n",
       "      <th>4</th>\n",
       "      <td>13.24</td>\n",
       "      <td>2.59</td>\n",
       "      <td>2.87</td>\n",
       "      <td>21.0</td>\n",
       "      <td>118.0</td>\n",
       "      <td>2.80</td>\n",
       "      <td>2.69</td>\n",
       "      <td>0.39</td>\n",
       "      <td>1.82</td>\n",
       "      <td>4.32</td>\n",
       "      <td>1.04</td>\n",
       "      <td>2.93</td>\n",
       "      <td>735.0</td>\n",
       "      <td>0.0</td>\n",
       "    </tr>\n",
       "    <tr>\n",
       "      <th>...</th>\n",
       "      <td>...</td>\n",
       "      <td>...</td>\n",
       "      <td>...</td>\n",
       "      <td>...</td>\n",
       "      <td>...</td>\n",
       "      <td>...</td>\n",
       "      <td>...</td>\n",
       "      <td>...</td>\n",
       "      <td>...</td>\n",
       "      <td>...</td>\n",
       "      <td>...</td>\n",
       "      <td>...</td>\n",
       "      <td>...</td>\n",
       "      <td>...</td>\n",
       "    </tr>\n",
       "    <tr>\n",
       "      <th>173</th>\n",
       "      <td>13.71</td>\n",
       "      <td>5.65</td>\n",
       "      <td>2.45</td>\n",
       "      <td>20.5</td>\n",
       "      <td>95.0</td>\n",
       "      <td>1.68</td>\n",
       "      <td>0.61</td>\n",
       "      <td>0.52</td>\n",
       "      <td>1.06</td>\n",
       "      <td>7.70</td>\n",
       "      <td>0.64</td>\n",
       "      <td>1.74</td>\n",
       "      <td>740.0</td>\n",
       "      <td>2.0</td>\n",
       "    </tr>\n",
       "    <tr>\n",
       "      <th>174</th>\n",
       "      <td>13.40</td>\n",
       "      <td>3.91</td>\n",
       "      <td>2.48</td>\n",
       "      <td>23.0</td>\n",
       "      <td>102.0</td>\n",
       "      <td>1.80</td>\n",
       "      <td>0.75</td>\n",
       "      <td>0.43</td>\n",
       "      <td>1.41</td>\n",
       "      <td>7.30</td>\n",
       "      <td>0.70</td>\n",
       "      <td>1.56</td>\n",
       "      <td>750.0</td>\n",
       "      <td>2.0</td>\n",
       "    </tr>\n",
       "    <tr>\n",
       "      <th>175</th>\n",
       "      <td>13.27</td>\n",
       "      <td>4.28</td>\n",
       "      <td>2.26</td>\n",
       "      <td>20.0</td>\n",
       "      <td>120.0</td>\n",
       "      <td>1.59</td>\n",
       "      <td>0.69</td>\n",
       "      <td>0.43</td>\n",
       "      <td>1.35</td>\n",
       "      <td>10.20</td>\n",
       "      <td>0.59</td>\n",
       "      <td>1.56</td>\n",
       "      <td>835.0</td>\n",
       "      <td>2.0</td>\n",
       "    </tr>\n",
       "    <tr>\n",
       "      <th>176</th>\n",
       "      <td>13.17</td>\n",
       "      <td>2.59</td>\n",
       "      <td>2.37</td>\n",
       "      <td>20.0</td>\n",
       "      <td>120.0</td>\n",
       "      <td>1.65</td>\n",
       "      <td>0.68</td>\n",
       "      <td>0.53</td>\n",
       "      <td>1.46</td>\n",
       "      <td>9.30</td>\n",
       "      <td>0.60</td>\n",
       "      <td>1.62</td>\n",
       "      <td>840.0</td>\n",
       "      <td>2.0</td>\n",
       "    </tr>\n",
       "    <tr>\n",
       "      <th>177</th>\n",
       "      <td>14.13</td>\n",
       "      <td>4.10</td>\n",
       "      <td>2.74</td>\n",
       "      <td>24.5</td>\n",
       "      <td>96.0</td>\n",
       "      <td>2.05</td>\n",
       "      <td>0.76</td>\n",
       "      <td>0.56</td>\n",
       "      <td>1.35</td>\n",
       "      <td>9.20</td>\n",
       "      <td>0.61</td>\n",
       "      <td>1.60</td>\n",
       "      <td>560.0</td>\n",
       "      <td>2.0</td>\n",
       "    </tr>\n",
       "  </tbody>\n",
       "</table>\n",
       "<p>178 rows × 14 columns</p>\n",
       "</div>"
      ],
      "text/plain": [
       "     alcohol  malic_acid   ash  alcalinity_of_ash  magnesium  total_phenols  \\\n",
       "0      14.23        1.71  2.43               15.6      127.0           2.80   \n",
       "1      13.20        1.78  2.14               11.2      100.0           2.65   \n",
       "2      13.16        2.36  2.67               18.6      101.0           2.80   \n",
       "3      14.37        1.95  2.50               16.8      113.0           3.85   \n",
       "4      13.24        2.59  2.87               21.0      118.0           2.80   \n",
       "..       ...         ...   ...                ...        ...            ...   \n",
       "173    13.71        5.65  2.45               20.5       95.0           1.68   \n",
       "174    13.40        3.91  2.48               23.0      102.0           1.80   \n",
       "175    13.27        4.28  2.26               20.0      120.0           1.59   \n",
       "176    13.17        2.59  2.37               20.0      120.0           1.65   \n",
       "177    14.13        4.10  2.74               24.5       96.0           2.05   \n",
       "\n",
       "     flavanoids  nonflavanoid_phenols  proanthocyanins  color_intensity   hue  \\\n",
       "0          3.06                  0.28             2.29             5.64  1.04   \n",
       "1          2.76                  0.26             1.28             4.38  1.05   \n",
       "2          3.24                  0.30             2.81             5.68  1.03   \n",
       "3          3.49                  0.24             2.18             7.80  0.86   \n",
       "4          2.69                  0.39             1.82             4.32  1.04   \n",
       "..          ...                   ...              ...              ...   ...   \n",
       "173        0.61                  0.52             1.06             7.70  0.64   \n",
       "174        0.75                  0.43             1.41             7.30  0.70   \n",
       "175        0.69                  0.43             1.35            10.20  0.59   \n",
       "176        0.68                  0.53             1.46             9.30  0.60   \n",
       "177        0.76                  0.56             1.35             9.20  0.61   \n",
       "\n",
       "     od280/od315_of_diluted_wines  proline  target  \n",
       "0                            3.92   1065.0     0.0  \n",
       "1                            3.40   1050.0     0.0  \n",
       "2                            3.17   1185.0     0.0  \n",
       "3                            3.45   1480.0     0.0  \n",
       "4                            2.93    735.0     0.0  \n",
       "..                            ...      ...     ...  \n",
       "173                          1.74    740.0     2.0  \n",
       "174                          1.56    750.0     2.0  \n",
       "175                          1.56    835.0     2.0  \n",
       "176                          1.62    840.0     2.0  \n",
       "177                          1.60    560.0     2.0  \n",
       "\n",
       "[178 rows x 14 columns]"
      ]
     },
     "execution_count": 3,
     "metadata": {},
     "output_type": "execute_result"
    }
   ],
   "source": [
    "data = pd.DataFrame(data= np.c_[wine['data'], wine['target']],\n",
    "                     columns= wine['feature_names'] + ['target'])\n",
    "data"
   ]
  },
  {
   "cell_type": "markdown",
   "metadata": {},
   "source": [
    "## 3. Разделение выборки на обучающую и тестовую"
   ]
  },
  {
   "cell_type": "code",
   "execution_count": 4,
   "metadata": {},
   "outputs": [],
   "source": [
    "# Разделение выборки на обучающую и тестовую\n",
    "wine_X_train, wine_X_test, wine_y_train, wine_y_test = train_test_split(\n",
    "    wine.data, wine.target, test_size=0.5, random_state=1)"
   ]
  },
  {
   "cell_type": "markdown",
   "metadata": {},
   "source": [
    "## 4. Обучение моделей"
   ]
  },
  {
   "cell_type": "markdown",
   "metadata": {},
   "source": [
    "### 4.1. Обучение линейной модели"
   ]
  },
  {
   "cell_type": "code",
   "execution_count": 6,
   "metadata": {},
   "outputs": [
    {
     "data": {
      "text/plain": [
       "<matplotlib.axes._subplots.AxesSubplot at 0x26d7775ed30>"
      ]
     },
     "execution_count": 6,
     "metadata": {},
     "output_type": "execute_result"
    },
    {
     "data": {
      "image/png": "[encoded data removed]",
      "text/plain": [
       "<Figure size 1080x504 with 2 Axes>"
      ]
     },
     "metadata": {},
     "output_type": "display_data"
    }
   ],
   "source": [
    "#Построим корреляционную матрицу\n",
    "fig, ax = plt.subplots(figsize=(15,7))\n",
    "sns.heatmap(data.corr(method='pearson'), ax=ax, annot=True, fmt='.2f')"
   ]
  },
  {
   "cell_type": "code",
   "execution_count": 31,
   "metadata": {},
   "outputs": [
    {
     "data": {
      "text/plain": [
       "<matplotlib.axes._subplots.AxesSubplot at 0x26d774ae048>"
      ]
     },
     "execution_count": 31,
     "metadata": {},
     "output_type": "execute_result"
    },
    {
     "data": {
      "image/png": "[encoded data removed]",
      "text/plain": [
       "<Figure size 720x720 with 1 Axes>"
      ]
     },
     "metadata": {},
     "output_type": "display_data"
    }
   ],
   "source": [
    "fig, ax = plt.subplots(figsize=(10,10)) \n",
    "sns.scatterplot(ax=ax, x='total_phenols', y='flavanoids', data=data)"
   ]
  },
  {
   "cell_type": "markdown",
   "metadata": {},
   "source": [
    "Между признаком \"total_phenols\" и признаком \"flavanoids\" существует зависимость, близкая к линейной, коэффициент корреляции = 0,86\n",
    "\n",
    "Попробуем восстановить данную линейную зависимость."
   ]
  },
  {
   "cell_type": "code",
   "execution_count": 80,
   "metadata": {},
   "outputs": [],
   "source": [
    "x = data['total_phenols'].values\n",
    "y = data['flavanoids'].values"
   ]
  },
  {
   "cell_type": "code",
   "execution_count": 85,
   "metadata": {},
   "outputs": [
    {
     "data": {
      "text/plain": [
       "-1.1315823825415343"
      ]
     },
     "execution_count": 85,
     "metadata": {},
     "output_type": "execute_result"
    }
   ],
   "source": [
    "reg = BayesianRidge(fit_intercept=True).fit(x.reshape(-1, 1), y)\n",
    "reg.coef_\n",
    "reg.intercept_"
   ]
  },
  {
   "cell_type": "code",
   "execution_count": 86,
   "metadata": {},
   "outputs": [],
   "source": [
    "def func(w, b, x):\n",
    "    return w*x + b"
   ]
  },
  {
   "cell_type": "code",
   "execution_count": 87,
   "metadata": {},
   "outputs": [],
   "source": [
    "x_t = list(range(0, 300, 5))\n",
    "y_t = [func(reg.coef_[0], reg.intercept_, x) for x in x_t]\n",
    "y_tt = reg.predict(x.reshape(-1, 1))"
   ]
  },
  {
   "cell_type": "code",
   "execution_count": 90,
   "metadata": {},
   "outputs": [
    {
     "data": {
      "image/png": "[encoded data removed]",
      "text/plain": [
       "<Figure size 432x288 with 1 Axes>"
      ]
     },
     "metadata": {},
     "output_type": "display_data"
    }
   ],
   "source": [
    "plt.plot(x, y, 'g.')\n",
    "plt.plot(x, y_tt, 'b', linewidth=2.0)\n",
    "plt.show()"
   ]
  },
  {
   "cell_type": "markdown",
   "metadata": {},
   "source": [
    "### 4.2. Обучение SVM"
   ]
  },
  {
   "cell_type": "code",
   "execution_count": 42,
   "metadata": {},
   "outputs": [],
   "source": [
    "from sklearn.svm import SVC, NuSVC, LinearSVC, OneClassSVM, SVR, NuSVR, LinearSVR"
   ]
  },
  {
   "cell_type": "code",
   "execution_count": 94,
   "metadata": {},
   "outputs": [
    {
     "data": {
      "text/plain": [
       "[<matplotlib.lines.Line2D at 0x26d79bd51d0>]"
      ]
     },
     "execution_count": 94,
     "metadata": {},
     "output_type": "execute_result"
    },
    {
     "data": {
      "image/png": "[encoded data removed]",
      "text/plain": [
       "<Figure size 432x288 with 1 Axes>"
      ]
     },
     "metadata": {},
     "output_type": "display_data"
    }
   ],
   "source": [
    "lin_SVR = LinearSVR(C=1.0, max_iter=10000)\n",
    "lin_SVR.fit(x.reshape(-1, 1), y)\n",
    "predict = lin_SVR.predict(x.reshape(-1, 1))\n",
    "plt.plot(x, y, 'g.')\n",
    "plt.plot(x, predict, 'ro')"
   ]
  },
  {
   "cell_type": "markdown",
   "metadata": {},
   "source": [
    "### 4.3. Обучение дерева решений"
   ]
  },
  {
   "cell_type": "code",
   "execution_count": 53,
   "metadata": {},
   "outputs": [
    {
     "data": {
      "text/plain": [
       "DecisionTreeRegressor(ccp_alpha=0.0, criterion='mse', max_depth=5,\n",
       "                      max_features=None, max_leaf_nodes=None,\n",
       "                      min_impurity_decrease=0.0, min_impurity_split=None,\n",
       "                      min_samples_leaf=1, min_samples_split=2,\n",
       "                      min_weight_fraction_leaf=0.0, presort='deprecated',\n",
       "                      random_state=1, splitter='best')"
      ]
     },
     "execution_count": 53,
     "metadata": {},
     "output_type": "execute_result"
    }
   ],
   "source": [
    "dec_tree = DecisionTreeRegressor(random_state=1, max_depth=5)\n",
    "dec_tree.fit(data, data[\"flavanoids\"])\n",
    "dec_tree"
   ]
  },
  {
   "cell_type": "code",
   "execution_count": 54,
   "metadata": {},
   "outputs": [],
   "source": [
    "dec_predict = dec_tree.predict(data)"
   ]
  },
  {
   "cell_type": "code",
   "execution_count": 55,
   "metadata": {},
   "outputs": [
    {
     "data": {
      "text/plain": [
       "[Text(176.4675, 199.32, 'X[6] <= 1.93\\nmse = 0.992\\nsamples = 178\\nvalue = 2.029'),\n",
       " Text(89.28, 163.07999999999998, 'X[6] <= 1.15\\nmse = 0.209\\nsamples = 79\\nvalue = 1.063'),\n",
       " Text(44.64, 126.83999999999999, 'X[6] <= 0.725\\nmse = 0.035\\nsamples = 44\\nvalue = 0.695'),\n",
       " Text(22.32, 90.6, 'X[6] <= 0.555\\nmse = 0.007\\nsamples = 28\\nvalue = 0.577'),\n",
       " Text(11.16, 54.359999999999985, 'X[12] <= 442.5\\nmse = 0.003\\nsamples = 10\\nvalue = 0.483'),\n",
       " Text(5.58, 18.119999999999976, 'mse = 0.0\\nsamples = 1\\nvalue = 0.34'),\n",
       " Text(16.740000000000002, 18.119999999999976, 'mse = 0.001\\nsamples = 9\\nvalue = 0.499'),\n",
       " Text(33.480000000000004, 54.359999999999985, 'X[6] <= 0.64\\nmse = 0.002\\nsamples = 18\\nvalue = 0.629'),\n",
       " Text(27.9, 18.119999999999976, 'mse = 0.0\\nsamples = 10\\nvalue = 0.591'),\n",
       " Text(39.06, 18.119999999999976, 'mse = 0.0\\nsamples = 8\\nvalue = 0.678'),\n",
       " Text(66.96000000000001, 90.6, 'X[6] <= 0.88\\nmse = 0.015\\nsamples = 16\\nvalue = 0.902'),\n",
       " Text(55.8, 54.359999999999985, 'X[6] <= 0.79\\nmse = 0.001\\nsamples = 8\\nvalue = 0.794'),\n",
       " Text(50.22, 18.119999999999976, 'mse = 0.0\\nsamples = 4\\nvalue = 0.762'),\n",
       " Text(61.38, 18.119999999999976, 'mse = 0.0\\nsamples = 4\\nvalue = 0.825'),\n",
       " Text(78.12, 54.359999999999985, 'X[6] <= 1.005\\nmse = 0.005\\nsamples = 8\\nvalue = 1.011'),\n",
       " Text(72.54, 18.119999999999976, 'mse = 0.001\\nsamples = 4\\nvalue = 0.948'),\n",
       " Text(83.7, 18.119999999999976, 'mse = 0.001\\nsamples = 4\\nvalue = 1.075'),\n",
       " Text(133.92000000000002, 126.83999999999999, 'X[6] <= 1.535\\nmse = 0.045\\nsamples = 35\\nvalue = 1.526'),\n",
       " Text(111.6, 90.6, 'X[6] <= 1.34\\nmse = 0.007\\nsamples = 16\\nvalue = 1.321'),\n",
       " Text(100.44, 54.359999999999985, 'X[5] <= 1.71\\nmse = 0.001\\nsamples = 10\\nvalue = 1.266'),\n",
       " Text(94.86, 18.119999999999976, 'mse = 0.0\\nsamples = 5\\nvalue = 1.234'),\n",
       " Text(106.02, 18.119999999999976, 'mse = 0.0\\nsamples = 5\\nvalue = 1.298'),\n",
       " Text(122.76, 54.359999999999985, 'X[6] <= 1.435\\nmse = 0.003\\nsamples = 6\\nvalue = 1.413'),\n",
       " Text(117.18, 18.119999999999976, 'mse = 0.0\\nsamples = 4\\nvalue = 1.38'),\n",
       " Text(128.34, 18.119999999999976, 'mse = 0.0\\nsamples = 2\\nvalue = 1.48'),\n",
       " Text(156.24, 90.6, 'X[6] <= 1.72\\nmse = 0.012\\nsamples = 19\\nvalue = 1.698'),\n",
       " Text(145.08, 54.359999999999985, 'X[6] <= 1.625\\nmse = 0.002\\nsamples = 11\\nvalue = 1.615'),\n",
       " Text(139.5, 18.119999999999976, 'mse = 0.0\\nsamples = 7\\nvalue = 1.587'),\n",
       " Text(150.66, 18.119999999999976, 'mse = 0.001\\nsamples = 4\\nvalue = 1.665'),\n",
       " Text(167.4, 54.359999999999985, 'X[6] <= 1.815\\nmse = 0.003\\nsamples = 8\\nvalue = 1.812'),\n",
       " Text(161.82, 18.119999999999976, 'mse = 0.0\\nsamples = 4\\nvalue = 1.762'),\n",
       " Text(172.98, 18.119999999999976, 'mse = 0.001\\nsamples = 4\\nvalue = 1.862'),\n",
       " Text(263.65500000000003, 163.07999999999998, 'X[6] <= 2.825\\nmse = 0.278\\nsamples = 99\\nvalue = 2.8'),\n",
       " Text(223.2, 126.83999999999999, 'X[6] <= 2.39\\nmse = 0.065\\nsamples = 53\\nvalue = 2.411'),\n",
       " Text(200.88, 90.6, 'X[6] <= 2.155\\nmse = 0.013\\nsamples = 24\\nvalue = 2.16'),\n",
       " Text(189.72, 54.359999999999985, 'X[6] <= 2.065\\nmse = 0.003\\nsamples = 11\\nvalue = 2.05'),\n",
       " Text(184.14000000000001, 18.119999999999976, 'mse = 0.001\\nsamples = 7\\nvalue = 2.011'),\n",
       " Text(195.3, 18.119999999999976, 'mse = 0.0\\nsamples = 4\\nvalue = 2.118'),\n",
       " Text(212.04, 54.359999999999985, 'X[6] <= 2.225\\nmse = 0.003\\nsamples = 13\\nvalue = 2.252'),\n",
       " Text(206.46, 18.119999999999976, 'mse = 0.0\\nsamples = 4\\nvalue = 2.185'),\n",
       " Text(217.62, 18.119999999999976, 'mse = 0.002\\nsamples = 9\\nvalue = 2.282'),\n",
       " Text(245.52, 90.6, 'X[6] <= 2.595\\nmse = 0.013\\nsamples = 29\\nvalue = 2.619'),\n",
       " Text(234.36, 54.359999999999985, 'X[6] <= 2.475\\nmse = 0.003\\nsamples = 11\\nvalue = 2.495'),\n",
       " Text(228.78, 18.119999999999976, 'mse = 0.0\\nsamples = 4\\nvalue = 2.43'),\n",
       " Text(239.94, 18.119999999999976, 'mse = 0.001\\nsamples = 7\\nvalue = 2.531'),\n",
       " Text(256.68, 54.359999999999985, 'X[6] <= 2.715\\nmse = 0.003\\nsamples = 18\\nvalue = 2.696'),\n",
       " Text(251.1, 18.119999999999976, 'mse = 0.001\\nsamples = 12\\nvalue = 2.658'),\n",
       " Text(262.26, 18.119999999999976, 'mse = 0.0\\nsamples = 6\\nvalue = 2.77'),\n",
       " Text(304.11, 126.83999999999999, 'X[6] <= 3.445\\nmse = 0.149\\nsamples = 46\\nvalue = 3.248'),\n",
       " Text(290.16, 90.6, 'X[6] <= 3.12\\nmse = 0.024\\nsamples = 36\\nvalue = 3.092'),\n",
       " Text(279.0, 54.359999999999985, 'X[6] <= 2.955\\nmse = 0.004\\nsamples = 20\\nvalue = 2.97'),\n",
       " Text(273.42, 18.119999999999976, 'mse = 0.001\\nsamples = 8\\nvalue = 2.903'),\n",
       " Text(284.58, 18.119999999999976, 'mse = 0.001\\nsamples = 12\\nvalue = 3.014'),\n",
       " Text(301.32, 54.359999999999985, 'X[6] <= 3.28\\nmse = 0.008\\nsamples = 16\\nvalue = 3.246'),\n",
       " Text(295.74, 18.119999999999976, 'mse = 0.002\\nsamples = 11\\nvalue = 3.195'),\n",
       " Text(306.9, 18.119999999999976, 'mse = 0.002\\nsamples = 5\\nvalue = 3.358'),\n",
       " Text(318.06, 90.6, 'X[0] <= 11.965\\nmse = 0.194\\nsamples = 10\\nvalue = 3.809'),\n",
       " Text(312.48, 54.359999999999985, 'mse = 0.0\\nsamples = 1\\nvalue = 5.08'),\n",
       " Text(323.64, 54.359999999999985, 'X[6] <= 3.655\\nmse = 0.016\\nsamples = 9\\nvalue = 3.668'),\n",
       " Text(318.06, 18.119999999999976, 'mse = 0.003\\nsamples = 4\\nvalue = 3.558'),\n",
       " Text(329.22, 18.119999999999976, 'mse = 0.008\\nsamples = 5\\nvalue = 3.756')]"
      ]
     },
     "execution_count": 55,
     "metadata": {},
     "output_type": "execute_result"
    },
    {
     "data": {
      "image/png": "[encoded data removed]",
      "text/plain": [
       "<Figure size 432x288 with 1 Axes>"
      ]
     },
     "metadata": {},
     "output_type": "display_data"
    }
   ],
   "source": [
    "from sklearn import tree\n",
    "tree.plot_tree(dec_tree, filled=True)"
   ]
  },
  {
   "cell_type": "markdown",
   "metadata": {},
   "source": [
    "## 5. Оценка качества моделей"
   ]
  },
  {
   "cell_type": "code",
   "execution_count": 95,
   "metadata": {},
   "outputs": [
    {
     "name": "stdout",
     "output_type": "stream",
     "text": [
      "Метрики для линейной модели:\n",
      "\n",
      "Средняя абсолютная ошибка:  0.38837557197701433\n",
      "Средняя квадратичная ошибка:  0.25054108150179827\n",
      "Коэффициент детерминации:  0.7474673224538837\n",
      "\n",
      "\n",
      "Метрики для SVM-модели:\n",
      "\n",
      "Средняя абсолютная ошибка:  0.38178925184594825\n",
      "Средняя квадратичная ошибка:  0.2543772448091098\n",
      "Коэффициент детерминации:  0.7436006647956162\n",
      "\n",
      "\n",
      "Метрики для Decision Tree:\n",
      "\n",
      "Средняя абсолютная ошибка:  0.02370858666926083\n",
      "Средняя квадратичная ошибка:  0.0010085943301392747\n",
      "Коэффициент детерминации:  0.998983388172426\n"
     ]
    }
   ],
   "source": [
    "from sklearn.metrics import mean_absolute_error, mean_squared_error, mean_squared_log_error, median_absolute_error, r2_score \n",
    "\n",
    "print(\"Метрики для линейной модели:\\n\")\n",
    "print(\"Средняя абсолютная ошибка: \", mean_absolute_error(y, y_tt))\n",
    "print(\"Средняя квадратичная ошибка: \", mean_squared_error(y, y_tt))\n",
    "print(\"Коэффициент детерминации: \", r2_score(y, y_tt))\n",
    "\n",
    "print(\"\\n\\nМетрики для SVM-модели:\\n\")\n",
    "print(\"Средняя абсолютная ошибка: \", mean_absolute_error(y, predict))\n",
    "print(\"Средняя квадратичная ошибка: \", mean_squared_error(y, predict))\n",
    "print(\"Коэффициент детерминации: \", r2_score(y, predict))\n",
    "\n",
    "\n",
    "print(\"\\n\\nМетрики для Decision Tree:\\n\")\n",
    "print(\"Средняя абсолютная ошибка: \", mean_absolute_error(y, dec_predict))\n",
    "print(\"Средняя квадратичная ошибка: \", mean_squared_error(y, dec_predict))\n",
    "print(\"Коэффициент детерминации: \", r2_score(y, dec_predict))"
   ]
  },
  {
   "cell_type": "markdown",
   "metadata": {},
   "source": [
    "## 6. Подбор гиперпараметра K с использованием GridSearchCV и кросс-валидации"
   ]
  },
  {
   "cell_type": "code",
   "execution_count": 60,
   "metadata": {},
   "outputs": [],
   "source": [
    "from sklearn.model_selection import cross_validate"
   ]
  },
  {
   "cell_type": "code",
   "execution_count": 61,
   "metadata": {},
   "outputs": [],
   "source": [
    "scoring = {'mean': 'neg_mean_absolute_error', 'square': 'neg_mean_squared_error', 'r2': 'r2'}"
   ]
  },
  {
   "cell_type": "code",
   "execution_count": 96,
   "metadata": {},
   "outputs": [
    {
     "data": {
      "text/plain": [
       "{'fit_time': array([0.00102735, 0.00096703, 0.00151944]),\n",
       " 'score_time': array([0.00098944, 0.00099707, 0.00098562]),\n",
       " 'test_mean': array([-0.46738065, -0.43402138, -0.70598688]),\n",
       " 'test_square': array([-0.27485104, -0.31021826, -0.68273128]),\n",
       " 'test_r2': array([-0.10777762,  0.05992159,  0.10814324])}"
      ]
     },
     "execution_count": 96,
     "metadata": {},
     "output_type": "execute_result"
    }
   ],
   "source": [
    "scores_regr = cross_validate(BayesianRidge(fit_intercept=True), \n",
    "                         x.reshape(-1, 1), y, cv=3, scoring=scoring)\n",
    "scores_regr"
   ]
  },
  {
   "cell_type": "code",
   "execution_count": 97,
   "metadata": {},
   "outputs": [
    {
     "data": {
      "text/plain": [
       "{'fit_time': array([0.00199437, 0.00099778, 0.00150585]),\n",
       " 'score_time': array([0.00099707, 0.00099897, 0.0009973 ]),\n",
       " 'test_mean': array([-0.37651991, -0.40821794, -0.73564537]),\n",
       " 'test_square': array([-0.19049266, -0.2878672 , -0.74572873]),\n",
       " 'test_r2': array([0.23222591, 0.12765374, 0.02584923])}"
      ]
     },
     "execution_count": 97,
     "metadata": {},
     "output_type": "execute_result"
    }
   ],
   "source": [
    "scores_svm = cross_validate(LinearSVR(C=1.0, max_iter=10000), \n",
    "                         x.reshape(-1, 1), y, cv=3, scoring=scoring)\n",
    "scores_svm"
   ]
  },
  {
   "cell_type": "code",
   "execution_count": 99,
   "metadata": {},
   "outputs": [
    {
     "data": {
      "text/plain": [
       "{'fit_time': array([0.00298786, 0.00349998, 0.00299144, 0.00199628, 0.00199485]),\n",
       " 'score_time': array([0.00199771, 0.00250411, 0.00199318, 0.00199485, 0.00099635]),\n",
       " 'test_mean': array([-0.19587302, -0.14458327, -0.1097615 , -0.13096384, -0.15244473]),\n",
       " 'test_square': array([-0.06617504, -0.03283525, -0.01646075, -0.07348624, -0.03362549]),\n",
       " 'test_r2': array([0.60597266, 0.94997735, 0.94259156, 0.92856868, 0.58323408])}"
      ]
     },
     "execution_count": 99,
     "metadata": {},
     "output_type": "execute_result"
    }
   ],
   "source": [
    "scores_dec = cross_validate(DecisionTreeRegressor(random_state=1, max_depth=3), \n",
    "                         data, data[\"flavanoids\"], cv=5, scoring=scoring)\n",
    "scores_dec"
   ]
  },
  {
   "cell_type": "code",
   "execution_count": 100,
   "metadata": {},
   "outputs": [
    {
     "name": "stdout",
     "output_type": "stream",
     "text": [
      "Метрики для линейной модели:\n",
      "\n",
      "Средняя абсолютная ошибка:  -0.5357963043273647\n",
      "Средняя квадратичная ошибка:  -0.4226001955008612\n",
      "Коэффициент детерминации:  0.02009573828329725\n",
      "\n",
      "\n",
      "Метрики для SVM-модели:\n",
      "\n",
      "Средняя абсолютная ошибка:  -0.5067944091381511\n",
      "Средняя квадратичная ошибка:  -0.4080295312633375\n",
      "Коэффициент детерминации:  0.12857629245499136\n",
      "\n",
      "\n",
      "Метрики для Decision Tree:\n",
      "\n",
      "Средняя абсолютная ошибка:  -0.1467252733358278\n",
      "Средняя квадратичная ошибка:  -0.044516553835920666\n",
      "Коэффициент детерминации:  0.8020688669114537\n"
     ]
    }
   ],
   "source": [
    "print(\"Метрики для линейной модели:\\n\")\n",
    "print(\"Средняя абсолютная ошибка: \", np.mean(scores_regr['test_mean']))\n",
    "print(\"Средняя квадратичная ошибка: \", np.mean(scores_regr['test_square']))\n",
    "print(\"Коэффициент детерминации: \", np.mean(scores_regr['test_r2']))\n",
    "\n",
    "print(\"\\n\\nМетрики для SVM-модели:\\n\")\n",
    "print(\"Средняя абсолютная ошибка: \", np.mean(scores_svm['test_mean']))\n",
    "print(\"Средняя квадратичная ошибка: \", np.mean(scores_svm['test_square']))\n",
    "print(\"Коэффициент детерминации: \", np.mean(scores_svm['test_r2']))\n",
    "\n",
    "\n",
    "print(\"\\n\\nМетрики для Decision Tree:\\n\")\n",
    "print(\"Средняя абсолютная ошибка: \", np.mean(scores_dec['test_mean']))\n",
    "print(\"Средняя квадратичная ошибка: \", np.mean(scores_dec['test_square']))\n",
    "print(\"Коэффициент детерминации: \", np.mean(scores_dec['test_r2']))"
   ]
  },
  {
   "cell_type": "markdown",
   "metadata": {},
   "source": [
    "## 7. Оптимизация модели с помощью решетчатого поиска"
   ]
  },
  {
   "cell_type": "code",
   "execution_count": 101,
   "metadata": {},
   "outputs": [],
   "source": [
    "from sklearn.model_selection import GridSearchCV"
   ]
  },
  {
   "cell_type": "code",
   "execution_count": 102,
   "metadata": {},
   "outputs": [
    {
     "data": {
      "text/plain": [
       "[{'max_depth': array([1, 2, 3, 4, 5, 6, 7, 8, 9])}]"
      ]
     },
     "execution_count": 102,
     "metadata": {},
     "output_type": "execute_result"
    }
   ],
   "source": [
    "n_range = np.array(range(1,10,1))\n",
    "tuned_parameters = [{'max_depth': n_range}]\n",
    "tuned_parameters"
   ]
  },
  {
   "cell_type": "code",
   "execution_count": 103,
   "metadata": {},
   "outputs": [
    {
     "name": "stdout",
     "output_type": "stream",
     "text": [
      "Wall time: 44.5 ms\n"
     ]
    },
    {
     "data": {
      "text/plain": [
       "GridSearchCV(cv=5, error_score=nan,\n",
       "             estimator=DecisionTreeRegressor(ccp_alpha=0.0, criterion='mse',\n",
       "                                             max_depth=None, max_features=None,\n",
       "                                             max_leaf_nodes=None,\n",
       "                                             min_impurity_decrease=0.0,\n",
       "                                             min_impurity_split=None,\n",
       "                                             min_samples_leaf=1,\n",
       "                                             min_samples_split=2,\n",
       "                                             min_weight_fraction_leaf=0.0,\n",
       "                                             presort='deprecated',\n",
       "                                             random_state=None,\n",
       "                                             splitter='best'),\n",
       "             iid='deprecated', n_jobs=None,\n",
       "             param_grid=[{'max_depth': array([1, 2, 3, 4, 5, 6, 7, 8, 9])}],\n",
       "             pre_dispatch='2*n_jobs', refit=True, return_train_score=False,\n",
       "             scoring='r2', verbose=0)"
      ]
     },
     "execution_count": 103,
     "metadata": {},
     "output_type": "execute_result"
    }
   ],
   "source": [
    "%%time\n",
    "clf_gs = GridSearchCV(DecisionTreeRegressor(), tuned_parameters, cv=5, scoring='r2')\n",
    "clf_gs.fit(x.reshape(-1, 1), y)"
   ]
  },
  {
   "cell_type": "code",
   "execution_count": 104,
   "metadata": {},
   "outputs": [
    {
     "data": {
      "text/plain": [
       "DecisionTreeRegressor(ccp_alpha=0.0, criterion='mse', max_depth=3,\n",
       "                      max_features=None, max_leaf_nodes=None,\n",
       "                      min_impurity_decrease=0.0, min_impurity_split=None,\n",
       "                      min_samples_leaf=1, min_samples_split=2,\n",
       "                      min_weight_fraction_leaf=0.0, presort='deprecated',\n",
       "                      random_state=None, splitter='best')"
      ]
     },
     "execution_count": 104,
     "metadata": {},
     "output_type": "execute_result"
    }
   ],
   "source": [
    "# Лучшая модель\n",
    "clf_gs.best_estimator_"
   ]
  },
  {
   "cell_type": "code",
   "execution_count": 105,
   "metadata": {},
   "outputs": [
    {
     "data": {
      "text/plain": [
       "-0.9567860362862277"
      ]
     },
     "execution_count": 105,
     "metadata": {},
     "output_type": "execute_result"
    }
   ],
   "source": [
    "clf_gs.best_score_"
   ]
  },
  {
   "cell_type": "code",
   "execution_count": 106,
   "metadata": {},
   "outputs": [
    {
     "data": {
      "text/plain": [
       "{'max_depth': 3}"
      ]
     },
     "execution_count": 106,
     "metadata": {},
     "output_type": "execute_result"
    }
   ],
   "source": [
    "clf_gs.best_params_"
   ]
  },
  {
   "cell_type": "code",
   "execution_count": 107,
   "metadata": {},
   "outputs": [
    {
     "data": {
      "text/plain": [
       "[<matplotlib.lines.Line2D at 0x26d797c71d0>]"
      ]
     },
     "execution_count": 107,
     "metadata": {},
     "output_type": "execute_result"
    },
    {
     "data": {
      "image/png": "[encoded data removed]",
      "text/plain": [
       "<Figure size 432x288 with 1 Axes>"
      ]
     },
     "metadata": {},
     "output_type": "display_data"
    }
   ],
   "source": [
    "plt.plot(n_range, clf_gs.cv_results_['mean_test_score'])"
   ]
  },
  {
   "cell_type": "markdown",
   "metadata": {},
   "source": [
    "### Оптимизация SVM"
   ]
  },
  {
   "cell_type": "code",
   "execution_count": 108,
   "metadata": {},
   "outputs": [],
   "source": [
    "param_grid = {'C': [0.1,1, 10, 100], 'epsilon': [0.1, 0.2, 0.3, 0.4, 0.5, 0.6, 0.7, 0.8, 0.9, 1.0]}"
   ]
  },
  {
   "cell_type": "code",
   "execution_count": 109,
   "metadata": {},
   "outputs": [
    {
     "name": "stdout",
     "output_type": "stream",
     "text": [
      "Fitting 5 folds for each of 40 candidates, totalling 200 fits\n",
      "[CV] C=0.1, epsilon=0.1 ..............................................\n",
      "[CV] ............................... C=0.1, epsilon=0.1, total=   0.0s\n",
      "[CV] C=0.1, epsilon=0.1 ..............................................\n",
      "[CV] ............................... C=0.1, epsilon=0.1, total=   0.0s\n",
      "[CV] C=0.1, epsilon=0.1 ..............................................\n",
      "[CV] ............................... C=0.1, epsilon=0.1, total=   0.0s\n",
      "[CV] C=0.1, epsilon=0.1 ..............................................\n",
      "[CV] ............................... C=0.1, epsilon=0.1, total=   0.0s\n",
      "[CV] C=0.1, epsilon=0.1 ..............................................\n",
      "[CV] ............................... C=0.1, epsilon=0.1, total=   0.0s\n",
      "[CV] C=0.1, epsilon=0.2 ..............................................\n",
      "[CV] ............................... C=0.1, epsilon=0.2, total=   0.0s\n",
      "[CV] C=0.1, epsilon=0.2 ..............................................\n",
      "[CV] ............................... C=0.1, epsilon=0.2, total=   0.0s\n",
      "[CV] C=0.1, epsilon=0.2 ..............................................\n",
      "[CV] ............................... C=0.1, epsilon=0.2, total=   0.0s\n",
      "[CV] C=0.1, epsilon=0.2 ..............................................\n",
      "[CV] ............................... C=0.1, epsilon=0.2, total=   0.0s\n",
      "[CV] C=0.1, epsilon=0.2 ..............................................\n",
      "[CV] ............................... C=0.1, epsilon=0.2, total=   0.0s\n",
      "[CV] C=0.1, epsilon=0.3 ..............................................\n",
      "[CV] ............................... C=0.1, epsilon=0.3, total=   0.0s\n",
      "[CV] C=0.1, epsilon=0.3 ..............................................\n",
      "[CV] ............................... C=0.1, epsilon=0.3, total=   0.0s\n",
      "[CV] C=0.1, epsilon=0.3 ..............................................\n",
      "[CV] ............................... C=0.1, epsilon=0.3, total=   0.0s\n",
      "[CV] C=0.1, epsilon=0.3 ..............................................\n",
      "[CV] ............................... C=0.1, epsilon=0.3, total=   0.0s\n",
      "[CV] C=0.1, epsilon=0.3 ..............................................\n",
      "[CV] ............................... C=0.1, epsilon=0.3, total=   0.0s\n",
      "[CV] C=0.1, epsilon=0.4 ..............................................\n",
      "[CV] ............................... C=0.1, epsilon=0.4, total=   0.0s\n",
      "[CV] C=0.1, epsilon=0.4 ..............................................\n",
      "[CV] ............................... C=0.1, epsilon=0.4, total=   0.0s\n",
      "[CV] C=0.1, epsilon=0.4 ..............................................\n",
      "[CV] ............................... C=0.1, epsilon=0.4, total=   0.0s\n",
      "[CV] C=0.1, epsilon=0.4 ..............................................\n",
      "[CV] ............................... C=0.1, epsilon=0.4, total=   0.0s\n",
      "[CV] C=0.1, epsilon=0.4 ..............................................\n",
      "[CV] ............................... C=0.1, epsilon=0.4, total=   0.0s\n",
      "[CV] C=0.1, epsilon=0.5 ..............................................\n",
      "[CV] ............................... C=0.1, epsilon=0.5, total=   0.0s\n",
      "[CV] C=0.1, epsilon=0.5 ..............................................\n",
      "[CV] ............................... C=0.1, epsilon=0.5, total=   0.0s\n",
      "[CV] C=0.1, epsilon=0.5 ..............................................\n",
      "[CV] ............................... C=0.1, epsilon=0.5, total=   0.0s\n",
      "[CV] C=0.1, epsilon=0.5 ..............................................\n",
      "[CV] ............................... C=0.1, epsilon=0.5, total=   0.0s\n",
      "[CV] C=0.1, epsilon=0.5 ..............................................\n",
      "[CV] ............................... C=0.1, epsilon=0.5, total=   0.0s\n",
      "[CV] C=0.1, epsilon=0.6 ..............................................\n",
      "[CV] ............................... C=0.1, epsilon=0.6, total=   0.0s\n",
      "[CV] C=0.1, epsilon=0.6 ..............................................\n",
      "[CV] ............................... C=0.1, epsilon=0.6, total=   0.0s\n",
      "[CV] C=0.1, epsilon=0.6 ..............................................\n",
      "[CV] ............................... C=0.1, epsilon=0.6, total=   0.0s\n",
      "[CV] C=0.1, epsilon=0.6 ..............................................\n",
      "[CV] ............................... C=0.1, epsilon=0.6, total=   0.0s\n",
      "[CV] C=0.1, epsilon=0.6 ..............................................\n",
      "[CV] ............................... C=0.1, epsilon=0.6, total=   0.0s\n",
      "[CV] C=0.1, epsilon=0.7 ..............................................\n",
      "[CV] ............................... C=0.1, epsilon=0.7, total=   0.0s\n",
      "[CV] C=0.1, epsilon=0.7 ..............................................\n",
      "[CV] ............................... C=0.1, epsilon=0.7, total=   0.0s\n",
      "[CV] C=0.1, epsilon=0.7 ..............................................\n",
      "[CV] ............................... C=0.1, epsilon=0.7, total=   0.0s\n",
      "[CV] C=0.1, epsilon=0.7 ..............................................\n",
      "[CV] ............................... C=0.1, epsilon=0.7, total=   0.0s\n",
      "[CV] C=0.1, epsilon=0.7 ..............................................\n",
      "[CV] ............................... C=0.1, epsilon=0.7, total=   0.0s\n",
      "[CV] C=0.1, epsilon=0.8 ..............................................\n",
      "[CV] ............................... C=0.1, epsilon=0.8, total=   0.0s\n",
      "[CV] C=0.1, epsilon=0.8 ..............................................\n",
      "[CV] ............................... C=0.1, epsilon=0.8, total=   0.0s\n",
      "[CV] C=0.1, epsilon=0.8 ..............................................\n",
      "[CV] ............................... C=0.1, epsilon=0.8, total=   0.0s\n",
      "[CV] C=0.1, epsilon=0.8 ..............................................\n",
      "[CV] ............................... C=0.1, epsilon=0.8, total=   0.0s\n",
      "[CV] C=0.1, epsilon=0.8 ..............................................\n",
      "[CV] ............................... C=0.1, epsilon=0.8, total=   0.0s\n",
      "[CV] C=0.1, epsilon=0.9 ..............................................\n",
      "[CV] ............................... C=0.1, epsilon=0.9, total=   0.0s\n",
      "[CV] C=0.1, epsilon=0.9 ..............................................\n",
      "[CV] ............................... C=0.1, epsilon=0.9, total=   0.0s\n",
      "[CV] C=0.1, epsilon=0.9 ..............................................\n",
      "[CV] ............................... C=0.1, epsilon=0.9, total=   0.0s\n",
      "[CV] C=0.1, epsilon=0.9 ..............................................\n",
      "[CV] ............................... C=0.1, epsilon=0.9, total=   0.0s\n",
      "[CV] C=0.1, epsilon=0.9 ..............................................\n",
      "[CV] ............................... C=0.1, epsilon=0.9, total=   0.0s\n",
      "[CV] C=0.1, epsilon=1.0 ..............................................\n",
      "[CV] ............................... C=0.1, epsilon=1.0, total=   0.0s\n",
      "[CV] C=0.1, epsilon=1.0 ..............................................\n",
      "[CV] ............................... C=0.1, epsilon=1.0, total=   0.0s\n",
      "[CV] C=0.1, epsilon=1.0 ..............................................\n",
      "[CV] ............................... C=0.1, epsilon=1.0, total=   0.0s\n",
      "[CV] C=0.1, epsilon=1.0 ..............................................\n",
      "[CV] ............................... C=0.1, epsilon=1.0, total=   0.0s\n",
      "[CV] C=0.1, epsilon=1.0 ..............................................\n",
      "[CV] ............................... C=0.1, epsilon=1.0, total=   0.0s\n",
      "[CV] C=1, epsilon=0.1 ................................................\n",
      "[CV] ................................. C=1, epsilon=0.1, total=   0.0s\n",
      "[CV] C=1, epsilon=0.1 ................................................\n",
      "[CV] ................................. C=1, epsilon=0.1, total=   0.0s\n",
      "[CV] C=1, epsilon=0.1 ................................................\n",
      "[CV] ................................. C=1, epsilon=0.1, total=   0.0s\n",
      "[CV] C=1, epsilon=0.1 ................................................\n",
      "[CV] ................................. C=1, epsilon=0.1, total=   0.0s\n",
      "[CV] C=1, epsilon=0.1 ................................................\n",
      "[CV] ................................. C=1, epsilon=0.1, total=   0.0s\n",
      "[CV] C=1, epsilon=0.2 ................................................\n",
      "[CV] ................................. C=1, epsilon=0.2, total=   0.0s\n",
      "[CV] C=1, epsilon=0.2 ................................................\n",
      "[CV] ................................. C=1, epsilon=0.2, total=   0.0s\n",
      "[CV] C=1, epsilon=0.2 ................................................\n",
      "[CV] ................................. C=1, epsilon=0.2, total=   0.0s\n",
      "[CV] C=1, epsilon=0.2 ................................................\n",
      "[CV] ................................. C=1, epsilon=0.2, total=   0.0s\n",
      "[CV] C=1, epsilon=0.2 ................................................\n",
      "[CV] ................................. C=1, epsilon=0.2, total=   0.0s\n",
      "[CV] C=1, epsilon=0.3 ................................................\n",
      "[CV] ................................. C=1, epsilon=0.3, total=   0.0s\n",
      "[CV] C=1, epsilon=0.3 ................................................\n",
      "[CV] ................................. C=1, epsilon=0.3, total=   0.0s\n",
      "[CV] C=1, epsilon=0.3 ................................................\n",
      "[CV] ................................. C=1, epsilon=0.3, total=   0.0s\n",
      "[CV] C=1, epsilon=0.3 ................................................\n",
      "[CV] ................................. C=1, epsilon=0.3, total=   0.0s\n",
      "[CV] C=1, epsilon=0.3 ................................................\n",
      "[CV] ................................. C=1, epsilon=0.3, total=   0.0s\n",
      "[CV] C=1, epsilon=0.4 ................................................\n",
      "[CV] ................................. C=1, epsilon=0.4, total=   0.0s\n",
      "[CV] C=1, epsilon=0.4 ................................................\n",
      "[CV] ................................. C=1, epsilon=0.4, total=   0.0s\n",
      "[CV] C=1, epsilon=0.4 ................................................\n",
      "[CV] ................................. C=1, epsilon=0.4, total=   0.0s\n",
      "[CV] C=1, epsilon=0.4 ................................................\n",
      "[CV] ................................. C=1, epsilon=0.4, total=   0.0s\n",
      "[CV] C=1, epsilon=0.4 ................................................\n",
      "[CV] ................................. C=1, epsilon=0.4, total=   0.0s\n",
      "[CV] C=1, epsilon=0.5 ................................................\n",
      "[CV] ................................. C=1, epsilon=0.5, total=   0.0s\n",
      "[CV] C=1, epsilon=0.5 ................................................\n",
      "[CV] ................................. C=1, epsilon=0.5, total=   0.0s\n",
      "[CV] C=1, epsilon=0.5 ................................................\n",
      "[CV] ................................. C=1, epsilon=0.5, total=   0.0s\n",
      "[CV] C=1, epsilon=0.5 ................................................\n",
      "[CV] ................................. C=1, epsilon=0.5, total=   0.0s\n",
      "[CV] C=1, epsilon=0.5 ................................................\n",
      "[CV] ................................. C=1, epsilon=0.5, total=   0.0s\n",
      "[CV] C=1, epsilon=0.6 ................................................\n",
      "[CV] ................................. C=1, epsilon=0.6, total=   0.0s\n",
      "[CV] C=1, epsilon=0.6 ................................................\n",
      "[CV] ................................. C=1, epsilon=0.6, total=   0.0s\n",
      "[CV] C=1, epsilon=0.6 ................................................\n",
      "[CV] ................................. C=1, epsilon=0.6, total=   0.0s\n",
      "[CV] C=1, epsilon=0.6 ................................................\n",
      "[CV] ................................. C=1, epsilon=0.6, total=   0.0s\n",
      "[CV] C=1, epsilon=0.6 ................................................\n",
      "[CV] ................................. C=1, epsilon=0.6, total=   0.0s\n",
      "[CV] C=1, epsilon=0.7 ................................................\n",
      "[CV] ................................. C=1, epsilon=0.7, total=   0.0s\n",
      "[CV] C=1, epsilon=0.7 ................................................\n",
      "[CV] ................................. C=1, epsilon=0.7, total=   0.0s\n",
      "[CV] C=1, epsilon=0.7 ................................................\n",
      "[CV] ................................. C=1, epsilon=0.7, total=   0.0s\n",
      "[CV] C=1, epsilon=0.7 ................................................\n",
      "[CV] ................................. C=1, epsilon=0.7, total=   0.0s\n",
      "[CV] C=1, epsilon=0.7 ................................................\n",
      "[CV] ................................. C=1, epsilon=0.7, total=   0.0s\n",
      "[CV] C=1, epsilon=0.8 ................................................\n",
      "[CV] ................................. C=1, epsilon=0.8, total=   0.0s\n",
      "[CV] C=1, epsilon=0.8 ................................................\n",
      "[CV] ................................. C=1, epsilon=0.8, total=   0.0s\n",
      "[CV] C=1, epsilon=0.8 ................................................\n",
      "[CV] ................................. C=1, epsilon=0.8, total=   0.0s\n",
      "[CV] C=1, epsilon=0.8 ................................................\n",
      "[CV] ................................. C=1, epsilon=0.8, total=   0.0s\n",
      "[CV] C=1, epsilon=0.8 ................................................\n",
      "[CV] ................................. C=1, epsilon=0.8, total=   0.0s\n",
      "[CV] C=1, epsilon=0.9 ................................................\n",
      "[CV] ................................. C=1, epsilon=0.9, total=   0.0s\n",
      "[CV] C=1, epsilon=0.9 ................................................\n",
      "[CV] ................................. C=1, epsilon=0.9, total=   0.0s\n",
      "[CV] C=1, epsilon=0.9 ................................................\n",
      "[CV] ................................. C=1, epsilon=0.9, total=   0.0s\n",
      "[CV] C=1, epsilon=0.9 ................................................\n",
      "[CV] ................................. C=1, epsilon=0.9, total=   0.0s\n",
      "[CV] C=1, epsilon=0.9 ................................................\n",
      "[CV] ................................. C=1, epsilon=0.9, total=   0.0s\n",
      "[CV] C=1, epsilon=1.0 ................................................\n",
      "[CV] ................................. C=1, epsilon=1.0, total=   0.0s\n",
      "[CV] C=1, epsilon=1.0 ................................................\n",
      "[CV] ................................. C=1, epsilon=1.0, total=   0.0s\n",
      "[CV] C=1, epsilon=1.0 ................................................\n",
      "[CV] ................................. C=1, epsilon=1.0, total=   0.0s\n",
      "[CV] C=1, epsilon=1.0 ................................................\n",
      "[CV] ................................. C=1, epsilon=1.0, total=   0.0s\n",
      "[CV] C=1, epsilon=1.0 ................................................\n",
      "[CV] ................................. C=1, epsilon=1.0, total=   0.0s\n",
      "[CV] C=10, epsilon=0.1 ...............................................\n",
      "[CV] ................................ C=10, epsilon=0.1, total=   0.0s\n",
      "[CV] C=10, epsilon=0.1 ...............................................\n",
      "[CV] ................................ C=10, epsilon=0.1, total=   0.0s\n",
      "[CV] C=10, epsilon=0.1 ...............................................\n",
      "[CV] ................................ C=10, epsilon=0.1, total=   0.0s\n",
      "[CV] C=10, epsilon=0.1 ...............................................\n",
      "[CV] ................................ C=10, epsilon=0.1, total=   0.0s\n",
      "[CV] C=10, epsilon=0.1 ...............................................\n",
      "[CV] ................................ C=10, epsilon=0.1, total=   0.0s\n",
      "[CV] C=10, epsilon=0.2 ...............................................\n",
      "[CV] ................................ C=10, epsilon=0.2, total=   0.0s\n",
      "[CV] C=10, epsilon=0.2 ...............................................\n",
      "[CV] ................................ C=10, epsilon=0.2, total=   0.0s\n",
      "[CV] C=10, epsilon=0.2 ...............................................\n",
      "[CV] ................................ C=10, epsilon=0.2, total=   0.0s\n",
      "[CV] C=10, epsilon=0.2 ...............................................\n",
      "[CV] ................................ C=10, epsilon=0.2, total=   0.0s\n",
      "[CV] C=10, epsilon=0.2 ...............................................\n",
      "[CV] ................................ C=10, epsilon=0.2, total=   0.0s\n",
      "[CV] C=10, epsilon=0.3 ...............................................\n",
      "[CV] ................................ C=10, epsilon=0.3, total=   0.0s\n",
      "[CV] C=10, epsilon=0.3 ...............................................\n",
      "[CV] ................................ C=10, epsilon=0.3, total=   0.0s\n",
      "[CV] C=10, epsilon=0.3 ...............................................\n",
      "[CV] ................................ C=10, epsilon=0.3, total=   0.0s\n",
      "[CV] C=10, epsilon=0.3 ...............................................\n",
      "[CV] ................................ C=10, epsilon=0.3, total=   0.0s\n",
      "[CV] C=10, epsilon=0.3 ...............................................\n"
     ]
    },
    {
     "name": "stderr",
     "output_type": "stream",
     "text": [
      "[Parallel(n_jobs=1)]: Using backend SequentialBackend with 1 concurrent workers.\n",
      "[Parallel(n_jobs=1)]: Done   1 out of   1 | elapsed:    0.0s remaining:    0.0s\n",
      "d:\\документы\\магистратура\\2 семестр\\ммо + пис\\лабы\\virtualenvs\\tensorflow\\lib\\site-packages\\sklearn\\svm\\_base.py:947: ConvergenceWarning: Liblinear failed to converge, increase the number of iterations.\n",
      "  \"the number of iterations.\", ConvergenceWarning)\n",
      "d:\\документы\\магистратура\\2 семестр\\ммо + пис\\лабы\\virtualenvs\\tensorflow\\lib\\site-packages\\sklearn\\svm\\_base.py:947: ConvergenceWarning: Liblinear failed to converge, increase the number of iterations.\n",
      "  \"the number of iterations.\", ConvergenceWarning)\n",
      "d:\\документы\\магистратура\\2 семестр\\ммо + пис\\лабы\\virtualenvs\\tensorflow\\lib\\site-packages\\sklearn\\svm\\_base.py:947: ConvergenceWarning: Liblinear failed to converge, increase the number of iterations.\n",
      "  \"the number of iterations.\", ConvergenceWarning)\n",
      "d:\\документы\\магистратура\\2 семестр\\ммо + пис\\лабы\\virtualenvs\\tensorflow\\lib\\site-packages\\sklearn\\svm\\_base.py:947: ConvergenceWarning: Liblinear failed to converge, increase the number of iterations.\n",
      "  \"the number of iterations.\", ConvergenceWarning)\n",
      "d:\\документы\\магистратура\\2 семестр\\ммо + пис\\лабы\\virtualenvs\\tensorflow\\lib\\site-packages\\sklearn\\svm\\_base.py:947: ConvergenceWarning: Liblinear failed to converge, increase the number of iterations.\n",
      "  \"the number of iterations.\", ConvergenceWarning)\n",
      "d:\\документы\\магистратура\\2 семестр\\ммо + пис\\лабы\\virtualenvs\\tensorflow\\lib\\site-packages\\sklearn\\svm\\_base.py:947: ConvergenceWarning: Liblinear failed to converge, increase the number of iterations.\n",
      "  \"the number of iterations.\", ConvergenceWarning)\n",
      "d:\\документы\\магистратура\\2 семестр\\ммо + пис\\лабы\\virtualenvs\\tensorflow\\lib\\site-packages\\sklearn\\svm\\_base.py:947: ConvergenceWarning: Liblinear failed to converge, increase the number of iterations.\n",
      "  \"the number of iterations.\", ConvergenceWarning)\n",
      "d:\\документы\\магистратура\\2 семестр\\ммо + пис\\лабы\\virtualenvs\\tensorflow\\lib\\site-packages\\sklearn\\svm\\_base.py:947: ConvergenceWarning: Liblinear failed to converge, increase the number of iterations.\n",
      "  \"the number of iterations.\", ConvergenceWarning)\n",
      "d:\\документы\\магистратура\\2 семестр\\ммо + пис\\лабы\\virtualenvs\\tensorflow\\lib\\site-packages\\sklearn\\svm\\_base.py:947: ConvergenceWarning: Liblinear failed to converge, increase the number of iterations.\n",
      "  \"the number of iterations.\", ConvergenceWarning)\n",
      "d:\\документы\\магистратура\\2 семестр\\ммо + пис\\лабы\\virtualenvs\\tensorflow\\lib\\site-packages\\sklearn\\svm\\_base.py:947: ConvergenceWarning: Liblinear failed to converge, increase the number of iterations.\n",
      "  \"the number of iterations.\", ConvergenceWarning)\n",
      "d:\\документы\\магистратура\\2 семестр\\ммо + пис\\лабы\\virtualenvs\\tensorflow\\lib\\site-packages\\sklearn\\svm\\_base.py:947: ConvergenceWarning: Liblinear failed to converge, increase the number of iterations.\n",
      "  \"the number of iterations.\", ConvergenceWarning)\n",
      "d:\\документы\\магистратура\\2 семестр\\ммо + пис\\лабы\\virtualenvs\\tensorflow\\lib\\site-packages\\sklearn\\svm\\_base.py:947: ConvergenceWarning: Liblinear failed to converge, increase the number of iterations.\n",
      "  \"the number of iterations.\", ConvergenceWarning)\n",
      "d:\\документы\\магистратура\\2 семестр\\ммо + пис\\лабы\\virtualenvs\\tensorflow\\lib\\site-packages\\sklearn\\svm\\_base.py:947: ConvergenceWarning: Liblinear failed to converge, increase the number of iterations.\n",
      "  \"the number of iterations.\", ConvergenceWarning)\n",
      "d:\\документы\\магистратура\\2 семестр\\ммо + пис\\лабы\\virtualenvs\\tensorflow\\lib\\site-packages\\sklearn\\svm\\_base.py:947: ConvergenceWarning: Liblinear failed to converge, increase the number of iterations.\n",
      "  \"the number of iterations.\", ConvergenceWarning)\n",
      "d:\\документы\\магистратура\\2 семестр\\ммо + пис\\лабы\\virtualenvs\\tensorflow\\lib\\site-packages\\sklearn\\svm\\_base.py:947: ConvergenceWarning: Liblinear failed to converge, increase the number of iterations.\n",
      "  \"the number of iterations.\", ConvergenceWarning)\n",
      "d:\\документы\\магистратура\\2 семестр\\ммо + пис\\лабы\\virtualenvs\\tensorflow\\lib\\site-packages\\sklearn\\svm\\_base.py:947: ConvergenceWarning: Liblinear failed to converge, increase the number of iterations.\n",
      "  \"the number of iterations.\", ConvergenceWarning)\n",
      "d:\\документы\\магистратура\\2 семестр\\ммо + пис\\лабы\\virtualenvs\\tensorflow\\lib\\site-packages\\sklearn\\svm\\_base.py:947: ConvergenceWarning: Liblinear failed to converge, increase the number of iterations.\n",
      "  \"the number of iterations.\", ConvergenceWarning)\n",
      "d:\\документы\\магистратура\\2 семестр\\ммо + пис\\лабы\\virtualenvs\\tensorflow\\lib\\site-packages\\sklearn\\svm\\_base.py:947: ConvergenceWarning: Liblinear failed to converge, increase the number of iterations.\n",
      "  \"the number of iterations.\", ConvergenceWarning)\n",
      "d:\\документы\\магистратура\\2 семестр\\ммо + пис\\лабы\\virtualenvs\\tensorflow\\lib\\site-packages\\sklearn\\svm\\_base.py:947: ConvergenceWarning: Liblinear failed to converge, increase the number of iterations.\n",
      "  \"the number of iterations.\", ConvergenceWarning)\n",
      "d:\\документы\\магистратура\\2 семестр\\ммо + пис\\лабы\\virtualenvs\\tensorflow\\lib\\site-packages\\sklearn\\svm\\_base.py:947: ConvergenceWarning: Liblinear failed to converge, increase the number of iterations.\n",
      "  \"the number of iterations.\", ConvergenceWarning)\n",
      "d:\\документы\\магистратура\\2 семестр\\ммо + пис\\лабы\\virtualenvs\\tensorflow\\lib\\site-packages\\sklearn\\svm\\_base.py:947: ConvergenceWarning: Liblinear failed to converge, increase the number of iterations.\n",
      "  \"the number of iterations.\", ConvergenceWarning)\n",
      "d:\\документы\\магистратура\\2 семестр\\ммо + пис\\лабы\\virtualenvs\\tensorflow\\lib\\site-packages\\sklearn\\svm\\_base.py:947: ConvergenceWarning: Liblinear failed to converge, increase the number of iterations.\n",
      "  \"the number of iterations.\", ConvergenceWarning)\n",
      "d:\\документы\\магистратура\\2 семестр\\ммо + пис\\лабы\\virtualenvs\\tensorflow\\lib\\site-packages\\sklearn\\svm\\_base.py:947: ConvergenceWarning: Liblinear failed to converge, increase the number of iterations.\n",
      "  \"the number of iterations.\", ConvergenceWarning)\n",
      "d:\\документы\\магистратура\\2 семестр\\ммо + пис\\лабы\\virtualenvs\\tensorflow\\lib\\site-packages\\sklearn\\svm\\_base.py:947: ConvergenceWarning: Liblinear failed to converge, increase the number of iterations.\n",
      "  \"the number of iterations.\", ConvergenceWarning)\n",
      "d:\\документы\\магистратура\\2 семестр\\ммо + пис\\лабы\\virtualenvs\\tensorflow\\lib\\site-packages\\sklearn\\svm\\_base.py:947: ConvergenceWarning: Liblinear failed to converge, increase the number of iterations.\n",
      "  \"the number of iterations.\", ConvergenceWarning)\n",
      "d:\\документы\\магистратура\\2 семестр\\ммо + пис\\лабы\\virtualenvs\\tensorflow\\lib\\site-packages\\sklearn\\svm\\_base.py:947: ConvergenceWarning: Liblinear failed to converge, increase the number of iterations.\n",
      "  \"the number of iterations.\", ConvergenceWarning)\n",
      "d:\\документы\\магистратура\\2 семестр\\ммо + пис\\лабы\\virtualenvs\\tensorflow\\lib\\site-packages\\sklearn\\svm\\_base.py:947: ConvergenceWarning: Liblinear failed to converge, increase the number of iterations.\n",
      "  \"the number of iterations.\", ConvergenceWarning)\n",
      "d:\\документы\\магистратура\\2 семестр\\ммо + пис\\лабы\\virtualenvs\\tensorflow\\lib\\site-packages\\sklearn\\svm\\_base.py:947: ConvergenceWarning: Liblinear failed to converge, increase the number of iterations.\n",
      "  \"the number of iterations.\", ConvergenceWarning)\n",
      "d:\\документы\\магистратура\\2 семестр\\ммо + пис\\лабы\\virtualenvs\\tensorflow\\lib\\site-packages\\sklearn\\svm\\_base.py:947: ConvergenceWarning: Liblinear failed to converge, increase the number of iterations.\n",
      "  \"the number of iterations.\", ConvergenceWarning)\n",
      "d:\\документы\\магистратура\\2 семестр\\ммо + пис\\лабы\\virtualenvs\\tensorflow\\lib\\site-packages\\sklearn\\svm\\_base.py:947: ConvergenceWarning: Liblinear failed to converge, increase the number of iterations.\n",
      "  \"the number of iterations.\", ConvergenceWarning)\n",
      "d:\\документы\\магистратура\\2 семестр\\ммо + пис\\лабы\\virtualenvs\\tensorflow\\lib\\site-packages\\sklearn\\svm\\_base.py:947: ConvergenceWarning: Liblinear failed to converge, increase the number of iterations.\n",
      "  \"the number of iterations.\", ConvergenceWarning)\n",
      "d:\\документы\\магистратура\\2 семестр\\ммо + пис\\лабы\\virtualenvs\\tensorflow\\lib\\site-packages\\sklearn\\svm\\_base.py:947: ConvergenceWarning: Liblinear failed to converge, increase the number of iterations.\n",
      "  \"the number of iterations.\", ConvergenceWarning)\n",
      "d:\\документы\\магистратура\\2 семестр\\ммо + пис\\лабы\\virtualenvs\\tensorflow\\lib\\site-packages\\sklearn\\svm\\_base.py:947: ConvergenceWarning: Liblinear failed to converge, increase the number of iterations.\n",
      "  \"the number of iterations.\", ConvergenceWarning)\n",
      "d:\\документы\\магистратура\\2 семестр\\ммо + пис\\лабы\\virtualenvs\\tensorflow\\lib\\site-packages\\sklearn\\svm\\_base.py:947: ConvergenceWarning: Liblinear failed to converge, increase the number of iterations.\n",
      "  \"the number of iterations.\", ConvergenceWarning)\n",
      "d:\\документы\\магистратура\\2 семестр\\ммо + пис\\лабы\\virtualenvs\\tensorflow\\lib\\site-packages\\sklearn\\svm\\_base.py:947: ConvergenceWarning: Liblinear failed to converge, increase the number of iterations.\n",
      "  \"the number of iterations.\", ConvergenceWarning)\n",
      "d:\\документы\\магистратура\\2 семестр\\ммо + пис\\лабы\\virtualenvs\\tensorflow\\lib\\site-packages\\sklearn\\svm\\_base.py:947: ConvergenceWarning: Liblinear failed to converge, increase the number of iterations.\n",
      "  \"the number of iterations.\", ConvergenceWarning)\n",
      "d:\\документы\\магистратура\\2 семестр\\ммо + пис\\лабы\\virtualenvs\\tensorflow\\lib\\site-packages\\sklearn\\svm\\_base.py:947: ConvergenceWarning: Liblinear failed to converge, increase the number of iterations.\n",
      "  \"the number of iterations.\", ConvergenceWarning)\n"
     ]
    },
    {
     "name": "stderr",
     "output_type": "stream",
     "text": [
      "d:\\документы\\магистратура\\2 семестр\\ммо + пис\\лабы\\virtualenvs\\tensorflow\\lib\\site-packages\\sklearn\\svm\\_base.py:947: ConvergenceWarning: Liblinear failed to converge, increase the number of iterations.\n",
      "  \"the number of iterations.\", ConvergenceWarning)\n",
      "d:\\документы\\магистратура\\2 семестр\\ммо + пис\\лабы\\virtualenvs\\tensorflow\\lib\\site-packages\\sklearn\\svm\\_base.py:947: ConvergenceWarning: Liblinear failed to converge, increase the number of iterations.\n",
      "  \"the number of iterations.\", ConvergenceWarning)\n",
      "d:\\документы\\магистратура\\2 семестр\\ммо + пис\\лабы\\virtualenvs\\tensorflow\\lib\\site-packages\\sklearn\\svm\\_base.py:947: ConvergenceWarning: Liblinear failed to converge, increase the number of iterations.\n",
      "  \"the number of iterations.\", ConvergenceWarning)\n",
      "d:\\документы\\магистратура\\2 семестр\\ммо + пис\\лабы\\virtualenvs\\tensorflow\\lib\\site-packages\\sklearn\\svm\\_base.py:947: ConvergenceWarning: Liblinear failed to converge, increase the number of iterations.\n",
      "  \"the number of iterations.\", ConvergenceWarning)\n",
      "d:\\документы\\магистратура\\2 семестр\\ммо + пис\\лабы\\virtualenvs\\tensorflow\\lib\\site-packages\\sklearn\\svm\\_base.py:947: ConvergenceWarning: Liblinear failed to converge, increase the number of iterations.\n",
      "  \"the number of iterations.\", ConvergenceWarning)\n",
      "d:\\документы\\магистратура\\2 семестр\\ммо + пис\\лабы\\virtualenvs\\tensorflow\\lib\\site-packages\\sklearn\\svm\\_base.py:947: ConvergenceWarning: Liblinear failed to converge, increase the number of iterations.\n",
      "  \"the number of iterations.\", ConvergenceWarning)\n",
      "d:\\документы\\магистратура\\2 семестр\\ммо + пис\\лабы\\virtualenvs\\tensorflow\\lib\\site-packages\\sklearn\\svm\\_base.py:947: ConvergenceWarning: Liblinear failed to converge, increase the number of iterations.\n",
      "  \"the number of iterations.\", ConvergenceWarning)\n",
      "d:\\документы\\магистратура\\2 семестр\\ммо + пис\\лабы\\virtualenvs\\tensorflow\\lib\\site-packages\\sklearn\\svm\\_base.py:947: ConvergenceWarning: Liblinear failed to converge, increase the number of iterations.\n",
      "  \"the number of iterations.\", ConvergenceWarning)\n",
      "d:\\документы\\магистратура\\2 семестр\\ммо + пис\\лабы\\virtualenvs\\tensorflow\\lib\\site-packages\\sklearn\\svm\\_base.py:947: ConvergenceWarning: Liblinear failed to converge, increase the number of iterations.\n",
      "  \"the number of iterations.\", ConvergenceWarning)\n",
      "d:\\документы\\магистратура\\2 семестр\\ммо + пис\\лабы\\virtualenvs\\tensorflow\\lib\\site-packages\\sklearn\\svm\\_base.py:947: ConvergenceWarning: Liblinear failed to converge, increase the number of iterations.\n",
      "  \"the number of iterations.\", ConvergenceWarning)\n",
      "d:\\документы\\магистратура\\2 семестр\\ммо + пис\\лабы\\virtualenvs\\tensorflow\\lib\\site-packages\\sklearn\\svm\\_base.py:947: ConvergenceWarning: Liblinear failed to converge, increase the number of iterations.\n",
      "  \"the number of iterations.\", ConvergenceWarning)\n",
      "d:\\документы\\магистратура\\2 семестр\\ммо + пис\\лабы\\virtualenvs\\tensorflow\\lib\\site-packages\\sklearn\\svm\\_base.py:947: ConvergenceWarning: Liblinear failed to converge, increase the number of iterations.\n",
      "  \"the number of iterations.\", ConvergenceWarning)\n",
      "d:\\документы\\магистратура\\2 семестр\\ммо + пис\\лабы\\virtualenvs\\tensorflow\\lib\\site-packages\\sklearn\\svm\\_base.py:947: ConvergenceWarning: Liblinear failed to converge, increase the number of iterations.\n",
      "  \"the number of iterations.\", ConvergenceWarning)\n",
      "d:\\документы\\магистратура\\2 семестр\\ммо + пис\\лабы\\virtualenvs\\tensorflow\\lib\\site-packages\\sklearn\\svm\\_base.py:947: ConvergenceWarning: Liblinear failed to converge, increase the number of iterations.\n",
      "  \"the number of iterations.\", ConvergenceWarning)\n",
      "d:\\документы\\магистратура\\2 семестр\\ммо + пис\\лабы\\virtualenvs\\tensorflow\\lib\\site-packages\\sklearn\\svm\\_base.py:947: ConvergenceWarning: Liblinear failed to converge, increase the number of iterations.\n",
      "  \"the number of iterations.\", ConvergenceWarning)\n",
      "d:\\документы\\магистратура\\2 семестр\\ммо + пис\\лабы\\virtualenvs\\tensorflow\\lib\\site-packages\\sklearn\\svm\\_base.py:947: ConvergenceWarning: Liblinear failed to converge, increase the number of iterations.\n",
      "  \"the number of iterations.\", ConvergenceWarning)\n",
      "d:\\документы\\магистратура\\2 семестр\\ммо + пис\\лабы\\virtualenvs\\tensorflow\\lib\\site-packages\\sklearn\\svm\\_base.py:947: ConvergenceWarning: Liblinear failed to converge, increase the number of iterations.\n",
      "  \"the number of iterations.\", ConvergenceWarning)\n",
      "d:\\документы\\магистратура\\2 семестр\\ммо + пис\\лабы\\virtualenvs\\tensorflow\\lib\\site-packages\\sklearn\\svm\\_base.py:947: ConvergenceWarning: Liblinear failed to converge, increase the number of iterations.\n",
      "  \"the number of iterations.\", ConvergenceWarning)\n",
      "d:\\документы\\магистратура\\2 семестр\\ммо + пис\\лабы\\virtualenvs\\tensorflow\\lib\\site-packages\\sklearn\\svm\\_base.py:947: ConvergenceWarning: Liblinear failed to converge, increase the number of iterations.\n",
      "  \"the number of iterations.\", ConvergenceWarning)\n",
      "d:\\документы\\магистратура\\2 семестр\\ммо + пис\\лабы\\virtualenvs\\tensorflow\\lib\\site-packages\\sklearn\\svm\\_base.py:947: ConvergenceWarning: Liblinear failed to converge, increase the number of iterations.\n",
      "  \"the number of iterations.\", ConvergenceWarning)\n",
      "d:\\документы\\магистратура\\2 семестр\\ммо + пис\\лабы\\virtualenvs\\tensorflow\\lib\\site-packages\\sklearn\\svm\\_base.py:947: ConvergenceWarning: Liblinear failed to converge, increase the number of iterations.\n",
      "  \"the number of iterations.\", ConvergenceWarning)\n",
      "d:\\документы\\магистратура\\2 семестр\\ммо + пис\\лабы\\virtualenvs\\tensorflow\\lib\\site-packages\\sklearn\\svm\\_base.py:947: ConvergenceWarning: Liblinear failed to converge, increase the number of iterations.\n",
      "  \"the number of iterations.\", ConvergenceWarning)\n",
      "d:\\документы\\магистратура\\2 семестр\\ммо + пис\\лабы\\virtualenvs\\tensorflow\\lib\\site-packages\\sklearn\\svm\\_base.py:947: ConvergenceWarning: Liblinear failed to converge, increase the number of iterations.\n",
      "  \"the number of iterations.\", ConvergenceWarning)\n",
      "d:\\документы\\магистратура\\2 семестр\\ммо + пис\\лабы\\virtualenvs\\tensorflow\\lib\\site-packages\\sklearn\\svm\\_base.py:947: ConvergenceWarning: Liblinear failed to converge, increase the number of iterations.\n",
      "  \"the number of iterations.\", ConvergenceWarning)\n",
      "d:\\документы\\магистратура\\2 семестр\\ммо + пис\\лабы\\virtualenvs\\tensorflow\\lib\\site-packages\\sklearn\\svm\\_base.py:947: ConvergenceWarning: Liblinear failed to converge, increase the number of iterations.\n",
      "  \"the number of iterations.\", ConvergenceWarning)\n",
      "d:\\документы\\магистратура\\2 семестр\\ммо + пис\\лабы\\virtualenvs\\tensorflow\\lib\\site-packages\\sklearn\\svm\\_base.py:947: ConvergenceWarning: Liblinear failed to converge, increase the number of iterations.\n",
      "  \"the number of iterations.\", ConvergenceWarning)\n",
      "d:\\документы\\магистратура\\2 семестр\\ммо + пис\\лабы\\virtualenvs\\tensorflow\\lib\\site-packages\\sklearn\\svm\\_base.py:947: ConvergenceWarning: Liblinear failed to converge, increase the number of iterations.\n",
      "  \"the number of iterations.\", ConvergenceWarning)\n",
      "d:\\документы\\магистратура\\2 семестр\\ммо + пис\\лабы\\virtualenvs\\tensorflow\\lib\\site-packages\\sklearn\\svm\\_base.py:947: ConvergenceWarning: Liblinear failed to converge, increase the number of iterations.\n",
      "  \"the number of iterations.\", ConvergenceWarning)\n",
      "d:\\документы\\магистратура\\2 семестр\\ммо + пис\\лабы\\virtualenvs\\tensorflow\\lib\\site-packages\\sklearn\\svm\\_base.py:947: ConvergenceWarning: Liblinear failed to converge, increase the number of iterations.\n",
      "  \"the number of iterations.\", ConvergenceWarning)\n",
      "d:\\документы\\магистратура\\2 семестр\\ммо + пис\\лабы\\virtualenvs\\tensorflow\\lib\\site-packages\\sklearn\\svm\\_base.py:947: ConvergenceWarning: Liblinear failed to converge, increase the number of iterations.\n",
      "  \"the number of iterations.\", ConvergenceWarning)\n",
      "d:\\документы\\магистратура\\2 семестр\\ммо + пис\\лабы\\virtualenvs\\tensorflow\\lib\\site-packages\\sklearn\\svm\\_base.py:947: ConvergenceWarning: Liblinear failed to converge, increase the number of iterations.\n",
      "  \"the number of iterations.\", ConvergenceWarning)\n",
      "d:\\документы\\магистратура\\2 семестр\\ммо + пис\\лабы\\virtualenvs\\tensorflow\\lib\\site-packages\\sklearn\\svm\\_base.py:947: ConvergenceWarning: Liblinear failed to converge, increase the number of iterations.\n",
      "  \"the number of iterations.\", ConvergenceWarning)\n",
      "d:\\документы\\магистратура\\2 семестр\\ммо + пис\\лабы\\virtualenvs\\tensorflow\\lib\\site-packages\\sklearn\\svm\\_base.py:947: ConvergenceWarning: Liblinear failed to converge, increase the number of iterations.\n",
      "  \"the number of iterations.\", ConvergenceWarning)\n",
      "d:\\документы\\магистратура\\2 семестр\\ммо + пис\\лабы\\virtualenvs\\tensorflow\\lib\\site-packages\\sklearn\\svm\\_base.py:947: ConvergenceWarning: Liblinear failed to converge, increase the number of iterations.\n",
      "  \"the number of iterations.\", ConvergenceWarning)\n",
      "d:\\документы\\магистратура\\2 семестр\\ммо + пис\\лабы\\virtualenvs\\tensorflow\\lib\\site-packages\\sklearn\\svm\\_base.py:947: ConvergenceWarning: Liblinear failed to converge, increase the number of iterations.\n",
      "  \"the number of iterations.\", ConvergenceWarning)\n",
      "d:\\документы\\магистратура\\2 семестр\\ммо + пис\\лабы\\virtualenvs\\tensorflow\\lib\\site-packages\\sklearn\\svm\\_base.py:947: ConvergenceWarning: Liblinear failed to converge, increase the number of iterations.\n",
      "  \"the number of iterations.\", ConvergenceWarning)\n",
      "d:\\документы\\магистратура\\2 семестр\\ммо + пис\\лабы\\virtualenvs\\tensorflow\\lib\\site-packages\\sklearn\\svm\\_base.py:947: ConvergenceWarning: Liblinear failed to converge, increase the number of iterations.\n",
      "  \"the number of iterations.\", ConvergenceWarning)\n",
      "d:\\документы\\магистратура\\2 семестр\\ммо + пис\\лабы\\virtualenvs\\tensorflow\\lib\\site-packages\\sklearn\\svm\\_base.py:947: ConvergenceWarning: Liblinear failed to converge, increase the number of iterations.\n",
      "  \"the number of iterations.\", ConvergenceWarning)\n",
      "d:\\документы\\магистратура\\2 семестр\\ммо + пис\\лабы\\virtualenvs\\tensorflow\\lib\\site-packages\\sklearn\\svm\\_base.py:947: ConvergenceWarning: Liblinear failed to converge, increase the number of iterations.\n",
      "  \"the number of iterations.\", ConvergenceWarning)\n",
      "d:\\документы\\магистратура\\2 семестр\\ммо + пис\\лабы\\virtualenvs\\tensorflow\\lib\\site-packages\\sklearn\\svm\\_base.py:947: ConvergenceWarning: Liblinear failed to converge, increase the number of iterations.\n",
      "  \"the number of iterations.\", ConvergenceWarning)\n",
      "d:\\документы\\магистратура\\2 семестр\\ммо + пис\\лабы\\virtualenvs\\tensorflow\\lib\\site-packages\\sklearn\\svm\\_base.py:947: ConvergenceWarning: Liblinear failed to converge, increase the number of iterations.\n",
      "  \"the number of iterations.\", ConvergenceWarning)\n",
      "d:\\документы\\магистратура\\2 семестр\\ммо + пис\\лабы\\virtualenvs\\tensorflow\\lib\\site-packages\\sklearn\\svm\\_base.py:947: ConvergenceWarning: Liblinear failed to converge, increase the number of iterations.\n",
      "  \"the number of iterations.\", ConvergenceWarning)\n",
      "d:\\документы\\магистратура\\2 семестр\\ммо + пис\\лабы\\virtualenvs\\tensorflow\\lib\\site-packages\\sklearn\\svm\\_base.py:947: ConvergenceWarning: Liblinear failed to converge, increase the number of iterations.\n",
      "  \"the number of iterations.\", ConvergenceWarning)\n",
      "d:\\документы\\магистратура\\2 семестр\\ммо + пис\\лабы\\virtualenvs\\tensorflow\\lib\\site-packages\\sklearn\\svm\\_base.py:947: ConvergenceWarning: Liblinear failed to converge, increase the number of iterations.\n",
      "  \"the number of iterations.\", ConvergenceWarning)\n",
      "d:\\документы\\магистратура\\2 семестр\\ммо + пис\\лабы\\virtualenvs\\tensorflow\\lib\\site-packages\\sklearn\\svm\\_base.py:947: ConvergenceWarning: Liblinear failed to converge, increase the number of iterations.\n",
      "  \"the number of iterations.\", ConvergenceWarning)\n",
      "d:\\документы\\магистратура\\2 семестр\\ммо + пис\\лабы\\virtualenvs\\tensorflow\\lib\\site-packages\\sklearn\\svm\\_base.py:947: ConvergenceWarning: Liblinear failed to converge, increase the number of iterations.\n",
      "  \"the number of iterations.\", ConvergenceWarning)\n",
      "d:\\документы\\магистратура\\2 семестр\\ммо + пис\\лабы\\virtualenvs\\tensorflow\\lib\\site-packages\\sklearn\\svm\\_base.py:947: ConvergenceWarning: Liblinear failed to converge, increase the number of iterations.\n",
      "  \"the number of iterations.\", ConvergenceWarning)\n",
      "d:\\документы\\магистратура\\2 семестр\\ммо + пис\\лабы\\virtualenvs\\tensorflow\\lib\\site-packages\\sklearn\\svm\\_base.py:947: ConvergenceWarning: Liblinear failed to converge, increase the number of iterations.\n",
      "  \"the number of iterations.\", ConvergenceWarning)\n",
      "d:\\документы\\магистратура\\2 семестр\\ммо + пис\\лабы\\virtualenvs\\tensorflow\\lib\\site-packages\\sklearn\\svm\\_base.py:947: ConvergenceWarning: Liblinear failed to converge, increase the number of iterations.\n",
      "  \"the number of iterations.\", ConvergenceWarning)\n",
      "d:\\документы\\магистратура\\2 семестр\\ммо + пис\\лабы\\virtualenvs\\tensorflow\\lib\\site-packages\\sklearn\\svm\\_base.py:947: ConvergenceWarning: Liblinear failed to converge, increase the number of iterations.\n",
      "  \"the number of iterations.\", ConvergenceWarning)\n",
      "d:\\документы\\магистратура\\2 семестр\\ммо + пис\\лабы\\virtualenvs\\tensorflow\\lib\\site-packages\\sklearn\\svm\\_base.py:947: ConvergenceWarning: Liblinear failed to converge, increase the number of iterations.\n",
      "  \"the number of iterations.\", ConvergenceWarning)\n",
      "d:\\документы\\магистратура\\2 семестр\\ммо + пис\\лабы\\virtualenvs\\tensorflow\\lib\\site-packages\\sklearn\\svm\\_base.py:947: ConvergenceWarning: Liblinear failed to converge, increase the number of iterations.\n",
      "  \"the number of iterations.\", ConvergenceWarning)\n",
      "d:\\документы\\магистратура\\2 семестр\\ммо + пис\\лабы\\virtualenvs\\tensorflow\\lib\\site-packages\\sklearn\\svm\\_base.py:947: ConvergenceWarning: Liblinear failed to converge, increase the number of iterations.\n",
      "  \"the number of iterations.\", ConvergenceWarning)\n",
      "d:\\документы\\магистратура\\2 семестр\\ммо + пис\\лабы\\virtualenvs\\tensorflow\\lib\\site-packages\\sklearn\\svm\\_base.py:947: ConvergenceWarning: Liblinear failed to converge, increase the number of iterations.\n",
      "  \"the number of iterations.\", ConvergenceWarning)\n",
      "d:\\документы\\магистратура\\2 семестр\\ммо + пис\\лабы\\virtualenvs\\tensorflow\\lib\\site-packages\\sklearn\\svm\\_base.py:947: ConvergenceWarning: Liblinear failed to converge, increase the number of iterations.\n",
      "  \"the number of iterations.\", ConvergenceWarning)\n",
      "d:\\документы\\магистратура\\2 семестр\\ммо + пис\\лабы\\virtualenvs\\tensorflow\\lib\\site-packages\\sklearn\\svm\\_base.py:947: ConvergenceWarning: Liblinear failed to converge, increase the number of iterations.\n",
      "  \"the number of iterations.\", ConvergenceWarning)\n",
      "d:\\документы\\магистратура\\2 семестр\\ммо + пис\\лабы\\virtualenvs\\tensorflow\\lib\\site-packages\\sklearn\\svm\\_base.py:947: ConvergenceWarning: Liblinear failed to converge, increase the number of iterations.\n",
      "  \"the number of iterations.\", ConvergenceWarning)\n",
      "d:\\документы\\магистратура\\2 семестр\\ммо + пис\\лабы\\virtualenvs\\tensorflow\\lib\\site-packages\\sklearn\\svm\\_base.py:947: ConvergenceWarning: Liblinear failed to converge, increase the number of iterations.\n",
      "  \"the number of iterations.\", ConvergenceWarning)\n",
      "d:\\документы\\магистратура\\2 семестр\\ммо + пис\\лабы\\virtualenvs\\tensorflow\\lib\\site-packages\\sklearn\\svm\\_base.py:947: ConvergenceWarning: Liblinear failed to converge, increase the number of iterations.\n",
      "  \"the number of iterations.\", ConvergenceWarning)\n"
     ]
    },
    {
     "name": "stdout",
     "output_type": "stream",
     "text": [
      "[CV] ................................ C=10, epsilon=0.3, total=   0.0s\n",
      "[CV] C=10, epsilon=0.4 ...............................................\n",
      "[CV] ................................ C=10, epsilon=0.4, total=   0.0s\n",
      "[CV] C=10, epsilon=0.4 ...............................................\n",
      "[CV] ................................ C=10, epsilon=0.4, total=   0.0s\n",
      "[CV] C=10, epsilon=0.4 ...............................................\n",
      "[CV] ................................ C=10, epsilon=0.4, total=   0.0s\n",
      "[CV] C=10, epsilon=0.4 ...............................................\n",
      "[CV] ................................ C=10, epsilon=0.4, total=   0.0s\n",
      "[CV] C=10, epsilon=0.4 ...............................................\n",
      "[CV] ................................ C=10, epsilon=0.4, total=   0.0s\n",
      "[CV] C=10, epsilon=0.5 ...............................................\n",
      "[CV] ................................ C=10, epsilon=0.5, total=   0.0s\n",
      "[CV] C=10, epsilon=0.5 ...............................................\n",
      "[CV] ................................ C=10, epsilon=0.5, total=   0.0s\n",
      "[CV] C=10, epsilon=0.5 ...............................................\n",
      "[CV] ................................ C=10, epsilon=0.5, total=   0.0s\n",
      "[CV] C=10, epsilon=0.5 ...............................................\n",
      "[CV] ................................ C=10, epsilon=0.5, total=   0.0s\n",
      "[CV] C=10, epsilon=0.5 ...............................................\n",
      "[CV] ................................ C=10, epsilon=0.5, total=   0.0s\n",
      "[CV] C=10, epsilon=0.6 ...............................................\n",
      "[CV] ................................ C=10, epsilon=0.6, total=   0.0s\n",
      "[CV] C=10, epsilon=0.6 ...............................................\n",
      "[CV] ................................ C=10, epsilon=0.6, total=   0.0s\n",
      "[CV] C=10, epsilon=0.6 ...............................................\n",
      "[CV] ................................ C=10, epsilon=0.6, total=   0.0s\n",
      "[CV] C=10, epsilon=0.6 ...............................................\n",
      "[CV] ................................ C=10, epsilon=0.6, total=   0.0s\n",
      "[CV] C=10, epsilon=0.6 ...............................................\n",
      "[CV] ................................ C=10, epsilon=0.6, total=   0.0s\n",
      "[CV] C=10, epsilon=0.7 ...............................................\n",
      "[CV] ................................ C=10, epsilon=0.7, total=   0.0s\n",
      "[CV] C=10, epsilon=0.7 ...............................................\n",
      "[CV] ................................ C=10, epsilon=0.7, total=   0.0s\n",
      "[CV] C=10, epsilon=0.7 ...............................................\n",
      "[CV] ................................ C=10, epsilon=0.7, total=   0.0s\n",
      "[CV] C=10, epsilon=0.7 ...............................................\n",
      "[CV] ................................ C=10, epsilon=0.7, total=   0.0s\n",
      "[CV] C=10, epsilon=0.7 ...............................................\n",
      "[CV] ................................ C=10, epsilon=0.7, total=   0.0s\n",
      "[CV] C=10, epsilon=0.8 ...............................................\n",
      "[CV] ................................ C=10, epsilon=0.8, total=   0.0s\n",
      "[CV] C=10, epsilon=0.8 ...............................................\n",
      "[CV] ................................ C=10, epsilon=0.8, total=   0.0s\n",
      "[CV] C=10, epsilon=0.8 ...............................................\n",
      "[CV] ................................ C=10, epsilon=0.8, total=   0.0s\n",
      "[CV] C=10, epsilon=0.8 ...............................................\n",
      "[CV] ................................ C=10, epsilon=0.8, total=   0.0s\n",
      "[CV] C=10, epsilon=0.8 ...............................................\n",
      "[CV] ................................ C=10, epsilon=0.8, total=   0.0s\n",
      "[CV] C=10, epsilon=0.9 ...............................................\n",
      "[CV] ................................ C=10, epsilon=0.9, total=   0.0s\n",
      "[CV] C=10, epsilon=0.9 ...............................................\n",
      "[CV] ................................ C=10, epsilon=0.9, total=   0.0s\n",
      "[CV] C=10, epsilon=0.9 ...............................................\n",
      "[CV] ................................ C=10, epsilon=0.9, total=   0.0s\n",
      "[CV] C=10, epsilon=0.9 ...............................................\n",
      "[CV] ................................ C=10, epsilon=0.9, total=   0.0s\n",
      "[CV] C=10, epsilon=0.9 ...............................................\n",
      "[CV] ................................ C=10, epsilon=0.9, total=   0.0s\n",
      "[CV] C=10, epsilon=1.0 ...............................................\n",
      "[CV] ................................ C=10, epsilon=1.0, total=   0.0s\n",
      "[CV] C=10, epsilon=1.0 ...............................................\n",
      "[CV] ................................ C=10, epsilon=1.0, total=   0.0s\n",
      "[CV] C=10, epsilon=1.0 ...............................................\n",
      "[CV] ................................ C=10, epsilon=1.0, total=   0.0s\n",
      "[CV] C=10, epsilon=1.0 ...............................................\n",
      "[CV] ................................ C=10, epsilon=1.0, total=   0.0s\n",
      "[CV] C=10, epsilon=1.0 ...............................................\n",
      "[CV] ................................ C=10, epsilon=1.0, total=   0.0s\n",
      "[CV] C=100, epsilon=0.1 ..............................................\n",
      "[CV] ............................... C=100, epsilon=0.1, total=   0.0s\n",
      "[CV] C=100, epsilon=0.1 ..............................................\n",
      "[CV] ............................... C=100, epsilon=0.1, total=   0.0s\n",
      "[CV] C=100, epsilon=0.1 ..............................................\n",
      "[CV] ............................... C=100, epsilon=0.1, total=   0.0s\n",
      "[CV] C=100, epsilon=0.1 ..............................................\n",
      "[CV] ............................... C=100, epsilon=0.1, total=   0.0s\n",
      "[CV] C=100, epsilon=0.1 ..............................................\n",
      "[CV] ............................... C=100, epsilon=0.1, total=   0.0s\n",
      "[CV] C=100, epsilon=0.2 ..............................................\n",
      "[CV] ............................... C=100, epsilon=0.2, total=   0.0s\n",
      "[CV] C=100, epsilon=0.2 ..............................................\n",
      "[CV] ............................... C=100, epsilon=0.2, total=   0.0s\n",
      "[CV] C=100, epsilon=0.2 ..............................................\n",
      "[CV] ............................... C=100, epsilon=0.2, total=   0.0s\n",
      "[CV] C=100, epsilon=0.2 ..............................................\n",
      "[CV] ............................... C=100, epsilon=0.2, total=   0.0s\n",
      "[CV] C=100, epsilon=0.2 ..............................................\n",
      "[CV] ............................... C=100, epsilon=0.2, total=   0.0s\n",
      "[CV] C=100, epsilon=0.3 ..............................................\n",
      "[CV] ............................... C=100, epsilon=0.3, total=   0.0s\n",
      "[CV] C=100, epsilon=0.3 ..............................................\n",
      "[CV] ............................... C=100, epsilon=0.3, total=   0.0s\n",
      "[CV] C=100, epsilon=0.3 ..............................................\n",
      "[CV] ............................... C=100, epsilon=0.3, total=   0.0s\n",
      "[CV] C=100, epsilon=0.3 ..............................................\n",
      "[CV] ............................... C=100, epsilon=0.3, total=   0.0s\n",
      "[CV] C=100, epsilon=0.3 ..............................................\n",
      "[CV] ............................... C=100, epsilon=0.3, total=   0.0s\n",
      "[CV] C=100, epsilon=0.4 ..............................................\n",
      "[CV] ............................... C=100, epsilon=0.4, total=   0.0s\n",
      "[CV] C=100, epsilon=0.4 ..............................................\n",
      "[CV] ............................... C=100, epsilon=0.4, total=   0.0s\n",
      "[CV] C=100, epsilon=0.4 ..............................................\n",
      "[CV] ............................... C=100, epsilon=0.4, total=   0.0s\n",
      "[CV] C=100, epsilon=0.4 ..............................................\n",
      "[CV] ............................... C=100, epsilon=0.4, total=   0.0s\n",
      "[CV] C=100, epsilon=0.4 ..............................................\n",
      "[CV] ............................... C=100, epsilon=0.4, total=   0.0s\n",
      "[CV] C=100, epsilon=0.5 ..............................................\n",
      "[CV] ............................... C=100, epsilon=0.5, total=   0.0s\n",
      "[CV] C=100, epsilon=0.5 ..............................................\n",
      "[CV] ............................... C=100, epsilon=0.5, total=   0.0s\n",
      "[CV] C=100, epsilon=0.5 ..............................................\n",
      "[CV] ............................... C=100, epsilon=0.5, total=   0.0s\n",
      "[CV] C=100, epsilon=0.5 ..............................................\n",
      "[CV] ............................... C=100, epsilon=0.5, total=   0.0s\n",
      "[CV] C=100, epsilon=0.5 ..............................................\n"
     ]
    },
    {
     "name": "stdout",
     "output_type": "stream",
     "text": [
      "[CV] ............................... C=100, epsilon=0.5, total=   0.0s\n",
      "[CV] C=100, epsilon=0.6 ..............................................\n",
      "[CV] ............................... C=100, epsilon=0.6, total=   0.0s\n",
      "[CV] C=100, epsilon=0.6 ..............................................\n",
      "[CV] ............................... C=100, epsilon=0.6, total=   0.0s\n",
      "[CV] C=100, epsilon=0.6 ..............................................\n",
      "[CV] ............................... C=100, epsilon=0.6, total=   0.0s\n",
      "[CV] C=100, epsilon=0.6 ..............................................\n",
      "[CV] ............................... C=100, epsilon=0.6, total=   0.0s\n",
      "[CV] C=100, epsilon=0.6 ..............................................\n",
      "[CV] ............................... C=100, epsilon=0.6, total=   0.0s\n",
      "[CV] C=100, epsilon=0.7 ..............................................\n",
      "[CV] ............................... C=100, epsilon=0.7, total=   0.0s\n",
      "[CV] C=100, epsilon=0.7 ..............................................\n",
      "[CV] ............................... C=100, epsilon=0.7, total=   0.0s\n",
      "[CV] C=100, epsilon=0.7 ..............................................\n",
      "[CV] ............................... C=100, epsilon=0.7, total=   0.0s\n",
      "[CV] C=100, epsilon=0.7 ..............................................\n",
      "[CV] ............................... C=100, epsilon=0.7, total=   0.0s\n",
      "[CV] C=100, epsilon=0.7 ..............................................\n",
      "[CV] ............................... C=100, epsilon=0.7, total=   0.0s\n",
      "[CV] C=100, epsilon=0.8 ..............................................\n",
      "[CV] ............................... C=100, epsilon=0.8, total=   0.0s\n",
      "[CV] C=100, epsilon=0.8 ..............................................\n",
      "[CV] ............................... C=100, epsilon=0.8, total=   0.0s\n",
      "[CV] C=100, epsilon=0.8 ..............................................\n",
      "[CV] ............................... C=100, epsilon=0.8, total=   0.0s\n",
      "[CV] C=100, epsilon=0.8 ..............................................\n",
      "[CV] ............................... C=100, epsilon=0.8, total=   0.0s\n",
      "[CV] C=100, epsilon=0.8 ..............................................\n",
      "[CV] ............................... C=100, epsilon=0.8, total=   0.0s\n",
      "[CV] C=100, epsilon=0.9 ..............................................\n",
      "[CV] ............................... C=100, epsilon=0.9, total=   0.0s\n",
      "[CV] C=100, epsilon=0.9 ..............................................\n",
      "[CV] ............................... C=100, epsilon=0.9, total=   0.0s\n",
      "[CV] C=100, epsilon=0.9 ..............................................\n",
      "[CV] ............................... C=100, epsilon=0.9, total=   0.0s\n",
      "[CV] C=100, epsilon=0.9 ..............................................\n",
      "[CV] ............................... C=100, epsilon=0.9, total=   0.0s\n",
      "[CV] C=100, epsilon=0.9 ..............................................\n",
      "[CV] ............................... C=100, epsilon=0.9, total=   0.0s\n",
      "[CV] C=100, epsilon=1.0 ..............................................\n",
      "[CV] ............................... C=100, epsilon=1.0, total=   0.0s\n",
      "[CV] C=100, epsilon=1.0 ..............................................\n",
      "[CV] ............................... C=100, epsilon=1.0, total=   0.0s\n",
      "[CV] C=100, epsilon=1.0 ..............................................\n",
      "[CV] ............................... C=100, epsilon=1.0, total=   0.0s\n",
      "[CV] C=100, epsilon=1.0 ..............................................\n",
      "[CV] ............................... C=100, epsilon=1.0, total=   0.0s\n",
      "[CV] C=100, epsilon=1.0 ..............................................\n",
      "[CV] ............................... C=100, epsilon=1.0, total=   0.0s\n"
     ]
    },
    {
     "name": "stderr",
     "output_type": "stream",
     "text": [
      "d:\\документы\\магистратура\\2 семестр\\ммо + пис\\лабы\\virtualenvs\\tensorflow\\lib\\site-packages\\sklearn\\svm\\_base.py:947: ConvergenceWarning: Liblinear failed to converge, increase the number of iterations.\n",
      "  \"the number of iterations.\", ConvergenceWarning)\n",
      "d:\\документы\\магистратура\\2 семестр\\ммо + пис\\лабы\\virtualenvs\\tensorflow\\lib\\site-packages\\sklearn\\svm\\_base.py:947: ConvergenceWarning: Liblinear failed to converge, increase the number of iterations.\n",
      "  \"the number of iterations.\", ConvergenceWarning)\n",
      "d:\\документы\\магистратура\\2 семестр\\ммо + пис\\лабы\\virtualenvs\\tensorflow\\lib\\site-packages\\sklearn\\svm\\_base.py:947: ConvergenceWarning: Liblinear failed to converge, increase the number of iterations.\n",
      "  \"the number of iterations.\", ConvergenceWarning)\n",
      "d:\\документы\\магистратура\\2 семестр\\ммо + пис\\лабы\\virtualenvs\\tensorflow\\lib\\site-packages\\sklearn\\svm\\_base.py:947: ConvergenceWarning: Liblinear failed to converge, increase the number of iterations.\n",
      "  \"the number of iterations.\", ConvergenceWarning)\n",
      "d:\\документы\\магистратура\\2 семестр\\ммо + пис\\лабы\\virtualenvs\\tensorflow\\lib\\site-packages\\sklearn\\svm\\_base.py:947: ConvergenceWarning: Liblinear failed to converge, increase the number of iterations.\n",
      "  \"the number of iterations.\", ConvergenceWarning)\n",
      "d:\\документы\\магистратура\\2 семестр\\ммо + пис\\лабы\\virtualenvs\\tensorflow\\lib\\site-packages\\sklearn\\svm\\_base.py:947: ConvergenceWarning: Liblinear failed to converge, increase the number of iterations.\n",
      "  \"the number of iterations.\", ConvergenceWarning)\n",
      "d:\\документы\\магистратура\\2 семестр\\ммо + пис\\лабы\\virtualenvs\\tensorflow\\lib\\site-packages\\sklearn\\svm\\_base.py:947: ConvergenceWarning: Liblinear failed to converge, increase the number of iterations.\n",
      "  \"the number of iterations.\", ConvergenceWarning)\n",
      "d:\\документы\\магистратура\\2 семестр\\ммо + пис\\лабы\\virtualenvs\\tensorflow\\lib\\site-packages\\sklearn\\svm\\_base.py:947: ConvergenceWarning: Liblinear failed to converge, increase the number of iterations.\n",
      "  \"the number of iterations.\", ConvergenceWarning)\n",
      "d:\\документы\\магистратура\\2 семестр\\ммо + пис\\лабы\\virtualenvs\\tensorflow\\lib\\site-packages\\sklearn\\svm\\_base.py:947: ConvergenceWarning: Liblinear failed to converge, increase the number of iterations.\n",
      "  \"the number of iterations.\", ConvergenceWarning)\n",
      "d:\\документы\\магистратура\\2 семестр\\ммо + пис\\лабы\\virtualenvs\\tensorflow\\lib\\site-packages\\sklearn\\svm\\_base.py:947: ConvergenceWarning: Liblinear failed to converge, increase the number of iterations.\n",
      "  \"the number of iterations.\", ConvergenceWarning)\n",
      "d:\\документы\\магистратура\\2 семестр\\ммо + пис\\лабы\\virtualenvs\\tensorflow\\lib\\site-packages\\sklearn\\svm\\_base.py:947: ConvergenceWarning: Liblinear failed to converge, increase the number of iterations.\n",
      "  \"the number of iterations.\", ConvergenceWarning)\n",
      "d:\\документы\\магистратура\\2 семестр\\ммо + пис\\лабы\\virtualenvs\\tensorflow\\lib\\site-packages\\sklearn\\svm\\_base.py:947: ConvergenceWarning: Liblinear failed to converge, increase the number of iterations.\n",
      "  \"the number of iterations.\", ConvergenceWarning)\n",
      "d:\\документы\\магистратура\\2 семестр\\ммо + пис\\лабы\\virtualenvs\\tensorflow\\lib\\site-packages\\sklearn\\svm\\_base.py:947: ConvergenceWarning: Liblinear failed to converge, increase the number of iterations.\n",
      "  \"the number of iterations.\", ConvergenceWarning)\n",
      "d:\\документы\\магистратура\\2 семестр\\ммо + пис\\лабы\\virtualenvs\\tensorflow\\lib\\site-packages\\sklearn\\svm\\_base.py:947: ConvergenceWarning: Liblinear failed to converge, increase the number of iterations.\n",
      "  \"the number of iterations.\", ConvergenceWarning)\n",
      "d:\\документы\\магистратура\\2 семестр\\ммо + пис\\лабы\\virtualenvs\\tensorflow\\lib\\site-packages\\sklearn\\svm\\_base.py:947: ConvergenceWarning: Liblinear failed to converge, increase the number of iterations.\n",
      "  \"the number of iterations.\", ConvergenceWarning)\n",
      "d:\\документы\\магистратура\\2 семестр\\ммо + пис\\лабы\\virtualenvs\\tensorflow\\lib\\site-packages\\sklearn\\svm\\_base.py:947: ConvergenceWarning: Liblinear failed to converge, increase the number of iterations.\n",
      "  \"the number of iterations.\", ConvergenceWarning)\n",
      "d:\\документы\\магистратура\\2 семестр\\ммо + пис\\лабы\\virtualenvs\\tensorflow\\lib\\site-packages\\sklearn\\svm\\_base.py:947: ConvergenceWarning: Liblinear failed to converge, increase the number of iterations.\n",
      "  \"the number of iterations.\", ConvergenceWarning)\n",
      "d:\\документы\\магистратура\\2 семестр\\ммо + пис\\лабы\\virtualenvs\\tensorflow\\lib\\site-packages\\sklearn\\svm\\_base.py:947: ConvergenceWarning: Liblinear failed to converge, increase the number of iterations.\n",
      "  \"the number of iterations.\", ConvergenceWarning)\n",
      "d:\\документы\\магистратура\\2 семестр\\ммо + пис\\лабы\\virtualenvs\\tensorflow\\lib\\site-packages\\sklearn\\svm\\_base.py:947: ConvergenceWarning: Liblinear failed to converge, increase the number of iterations.\n",
      "  \"the number of iterations.\", ConvergenceWarning)\n",
      "d:\\документы\\магистратура\\2 семестр\\ммо + пис\\лабы\\virtualenvs\\tensorflow\\lib\\site-packages\\sklearn\\svm\\_base.py:947: ConvergenceWarning: Liblinear failed to converge, increase the number of iterations.\n",
      "  \"the number of iterations.\", ConvergenceWarning)\n",
      "d:\\документы\\магистратура\\2 семестр\\ммо + пис\\лабы\\virtualenvs\\tensorflow\\lib\\site-packages\\sklearn\\svm\\_base.py:947: ConvergenceWarning: Liblinear failed to converge, increase the number of iterations.\n",
      "  \"the number of iterations.\", ConvergenceWarning)\n",
      "d:\\документы\\магистратура\\2 семестр\\ммо + пис\\лабы\\virtualenvs\\tensorflow\\lib\\site-packages\\sklearn\\svm\\_base.py:947: ConvergenceWarning: Liblinear failed to converge, increase the number of iterations.\n",
      "  \"the number of iterations.\", ConvergenceWarning)\n",
      "d:\\документы\\магистратура\\2 семестр\\ммо + пис\\лабы\\virtualenvs\\tensorflow\\lib\\site-packages\\sklearn\\svm\\_base.py:947: ConvergenceWarning: Liblinear failed to converge, increase the number of iterations.\n",
      "  \"the number of iterations.\", ConvergenceWarning)\n",
      "d:\\документы\\магистратура\\2 семестр\\ммо + пис\\лабы\\virtualenvs\\tensorflow\\lib\\site-packages\\sklearn\\svm\\_base.py:947: ConvergenceWarning: Liblinear failed to converge, increase the number of iterations.\n",
      "  \"the number of iterations.\", ConvergenceWarning)\n",
      "d:\\документы\\магистратура\\2 семестр\\ммо + пис\\лабы\\virtualenvs\\tensorflow\\lib\\site-packages\\sklearn\\svm\\_base.py:947: ConvergenceWarning: Liblinear failed to converge, increase the number of iterations.\n",
      "  \"the number of iterations.\", ConvergenceWarning)\n",
      "d:\\документы\\магистратура\\2 семестр\\ммо + пис\\лабы\\virtualenvs\\tensorflow\\lib\\site-packages\\sklearn\\svm\\_base.py:947: ConvergenceWarning: Liblinear failed to converge, increase the number of iterations.\n",
      "  \"the number of iterations.\", ConvergenceWarning)\n",
      "[Parallel(n_jobs=1)]: Done 200 out of 200 | elapsed:    0.4s finished\n",
      "d:\\документы\\магистратура\\2 семестр\\ммо + пис\\лабы\\virtualenvs\\tensorflow\\lib\\site-packages\\sklearn\\svm\\_base.py:947: ConvergenceWarning: Liblinear failed to converge, increase the number of iterations.\n",
      "  \"the number of iterations.\", ConvergenceWarning)\n"
     ]
    },
    {
     "data": {
      "text/plain": [
       "GridSearchCV(cv=None, error_score=nan,\n",
       "             estimator=LinearSVR(C=1.0, dual=True, epsilon=0.0,\n",
       "                                 fit_intercept=True, intercept_scaling=1.0,\n",
       "                                 loss='epsilon_insensitive', max_iter=1000,\n",
       "                                 random_state=None, tol=0.0001, verbose=0),\n",
       "             iid='deprecated', n_jobs=None,\n",
       "             param_grid={'C': [0.1, 1, 10, 100],\n",
       "                         'epsilon': [0.1, 0.2, 0.3, 0.4, 0.5, 0.6, 0.7, 0.8,\n",
       "                                     0.9, 1.0]},\n",
       "             pre_dispatch='2*n_jobs', refit=True, return_train_score=False,\n",
       "             scoring=None, verbose=2)"
      ]
     },
     "execution_count": 109,
     "metadata": {},
     "output_type": "execute_result"
    }
   ],
   "source": [
    "grid = GridSearchCV(LinearSVR(),param_grid,refit=True,verbose=2)\n",
    "grid.fit(x.reshape(-1, 1),y)"
   ]
  },
  {
   "cell_type": "code",
   "execution_count": 110,
   "metadata": {},
   "outputs": [
    {
     "data": {
      "text/plain": [
       "LinearSVR(C=100, dual=True, epsilon=0.7, fit_intercept=True,\n",
       "          intercept_scaling=1.0, loss='epsilon_insensitive', max_iter=1000,\n",
       "          random_state=None, tol=0.0001, verbose=0)"
      ]
     },
     "execution_count": 110,
     "metadata": {},
     "output_type": "execute_result"
    }
   ],
   "source": [
    "grid.best_estimator_"
   ]
  },
  {
   "cell_type": "code",
   "execution_count": 111,
   "metadata": {},
   "outputs": [
    {
     "data": {
      "text/plain": [
       "-0.43105343219963677"
      ]
     },
     "execution_count": 111,
     "metadata": {},
     "output_type": "execute_result"
    }
   ],
   "source": [
    "grid.best_score_"
   ]
  },
  {
   "cell_type": "code",
   "execution_count": 112,
   "metadata": {},
   "outputs": [
    {
     "data": {
      "text/plain": [
       "{'C': 100, 'epsilon': 0.7}"
      ]
     },
     "execution_count": 112,
     "metadata": {},
     "output_type": "execute_result"
    }
   ],
   "source": [
    "grid.best_params_"
   ]
  },
  {
   "cell_type": "code",
   "execution_count": 113,
   "metadata": {},
   "outputs": [
    {
     "data": {
      "text/plain": [
       "GridSearchCV(cv=3, error_score=nan,\n",
       "             estimator=BayesianRidge(alpha_1=1e-06, alpha_2=1e-06,\n",
       "                                     alpha_init=None, compute_score=False,\n",
       "                                     copy_X=True, fit_intercept=True,\n",
       "                                     lambda_1=1e-06, lambda_2=1e-06,\n",
       "                                     lambda_init=None, n_iter=300,\n",
       "                                     normalize=False, tol=0.001,\n",
       "                                     verbose=False),\n",
       "             iid='deprecated', n_jobs=-1,\n",
       "             param_grid={'alpha_1': array([1.00000000e-13, 7.74263683e-13, 5.99484250e-...\n",
       "                         'lambda_1': array([1.00000000e-10, 3.59381366e-10, 1.29154967e-09, 4.64158883e-09,\n",
       "       1.66810054e-08, 5.99484250e-08, 2.15443469e-07, 7.74263683e-07,\n",
       "       2.78255940e-06, 1.00000000e-05]),\n",
       "                         'lambda_2': array([1.00000000e-11, 5.99484250e-11, 3.59381366e-10, 2.15443469e-09,\n",
       "       1.29154967e-08, 7.74263683e-08, 4.64158883e-07, 2.78255940e-06,\n",
       "       1.66810054e-05, 1.00000000e-04])},\n",
       "             pre_dispatch='2*n_jobs', refit=True, return_train_score=False,\n",
       "             scoring=None, verbose=0)"
      ]
     },
     "execution_count": 113,
     "metadata": {},
     "output_type": "execute_result"
    }
   ],
   "source": [
    "parameters = {\"alpha_1\": np.logspace(-13,-5,10),\n",
    "              \"alpha_2\": np.logspace(-9,-3,10),\n",
    "              \"lambda_1\": np.logspace(-10,-5,10),\n",
    "              \"lambda_2\": np.logspace(-11,-4,10)}\n",
    "\n",
    "grid_regr = GridSearchCV(BayesianRidge(), parameters, cv=3, n_jobs=-1)\n",
    "grid_regr.fit(x.reshape(-1, 1), y) "
   ]
  },
  {
   "cell_type": "code",
   "execution_count": 114,
   "metadata": {},
   "outputs": [
    {
     "data": {
      "text/plain": [
       "BayesianRidge(alpha_1=1e-05, alpha_2=1e-09, alpha_init=None,\n",
       "              compute_score=False, copy_X=True, fit_intercept=True,\n",
       "              lambda_1=1e-10, lambda_2=0.0001, lambda_init=None, n_iter=300,\n",
       "              normalize=False, tol=0.001, verbose=False)"
      ]
     },
     "execution_count": 114,
     "metadata": {},
     "output_type": "execute_result"
    }
   ],
   "source": [
    "grid_regr.best_estimator_"
   ]
  },
  {
   "cell_type": "code",
   "execution_count": 115,
   "metadata": {},
   "outputs": [
    {
     "data": {
      "text/plain": [
       "0.020096691882994306"
      ]
     },
     "execution_count": 115,
     "metadata": {},
     "output_type": "execute_result"
    }
   ],
   "source": [
    "grid_regr.best_score_"
   ]
  },
  {
   "cell_type": "code",
   "execution_count": 116,
   "metadata": {},
   "outputs": [
    {
     "data": {
      "text/plain": [
       "{'alpha_1': 1e-05, 'alpha_2': 1e-09, 'lambda_1': 1e-10, 'lambda_2': 0.0001}"
      ]
     },
     "execution_count": 116,
     "metadata": {},
     "output_type": "execute_result"
    }
   ],
   "source": [
    "grid_regr.best_params_"
   ]
  },
  {
   "cell_type": "code",
   "execution_count": 118,
   "metadata": {},
   "outputs": [],
   "source": [
    "reg = BayesianRidge(fit_intercept=True, alpha_1=1e-05, alpha_2=1e-09, lambda_1=1e-10, lambda_2=0.0001).fit(x.reshape(-1, 1), y)\n",
    "y_tt = reg.predict(x.reshape(-1, 1))\n",
    "\n",
    "lin_SVR = LinearSVR(C=1.0, max_iter=10000, epsilon=1.0)\n",
    "lin_SVR.fit(x.reshape(-1, 1), y)\n",
    "predict = lin_SVR.predict(x.reshape(-1, 1))\n",
    "\n",
    "dec_tree = DecisionTreeRegressor(random_state=1, max_depth=3)\n",
    "dec_tree.fit(data, data[\"flavanoids\"])\n",
    "dec_predict = dec_tree.predict(data)"
   ]
  },
  {
   "cell_type": "code",
   "execution_count": 119,
   "metadata": {},
   "outputs": [
    {
     "name": "stdout",
     "output_type": "stream",
     "text": [
      "Метрики для линейной модели:\n",
      "\n",
      "Средняя абсолютная ошибка:  0.38837555082790887\n",
      "Средняя квадратичная ошибка:  0.250541080926183\n",
      "Коэффициент детерминации:  0.7474673230340746\n",
      "\n",
      "\n",
      "Метрики для SVM-модели:\n",
      "\n",
      "Средняя абсолютная ошибка:  0.48790666940376964\n",
      "Средняя квадратичная ошибка:  0.3272402021600858\n",
      "Коэффициент детерминации:  0.6701585067132962\n",
      "\n",
      "\n",
      "Метрики для Decision Tree:\n",
      "\n",
      "Средняя абсолютная ошибка:  0.10946302125260202\n",
      "Средняя квадратичная ошибка:  0.02407692877866564\n",
      "Коэффициент детерминации:  0.9757316793911902\n"
     ]
    }
   ],
   "source": [
    "print(\"Метрики для линейной модели:\\n\")\n",
    "print(\"Средняя абсолютная ошибка: \", mean_absolute_error(y, y_tt))\n",
    "print(\"Средняя квадратичная ошибка: \", mean_squared_error(y, y_tt))\n",
    "print(\"Коэффициент детерминации: \", r2_score(y, y_tt))\n",
    "\n",
    "print(\"\\n\\nМетрики для SVM-модели:\\n\")\n",
    "print(\"Средняя абсолютная ошибка: \", mean_absolute_error(y, predict))\n",
    "print(\"Средняя квадратичная ошибка: \", mean_squared_error(y, predict))\n",
    "print(\"Коэффициент детерминации: \", r2_score(y, predict))\n",
    "\n",
    "\n",
    "print(\"\\n\\nМетрики для Decision Tree:\\n\")\n",
    "print(\"Средняя абсолютная ошибка: \", mean_absolute_error(y, dec_predict))\n",
    "print(\"Средняя квадратичная ошибка: \", mean_squared_error(y, dec_predict))\n",
    "print(\"Коэффициент детерминации: \", r2_score(y, dec_predict))"
   ]
  },
  {
   "cell_type": "markdown",
   "metadata": {},
   "source": [
    "## После подбора параметров модели показали лучший результат, чем без подбора."
   ]
  }
 ],
 "metadata": {
  "kernelspec": {
   "display_name": "Python 3",
   "language": "python",
   "name": "python3"
  },
  "language_info": {
   "codemirror_mode": {
    "name": "ipython",
    "version": 3
   },
   "file_extension": ".py",
   "mimetype": "text/x-python",
   "name": "python",
   "nbconvert_exporter": "python",
   "pygments_lexer": "ipython3",
   "version": "3.6.3"
  }
 },
 "nbformat": 4,
 "nbformat_minor": 4
}
